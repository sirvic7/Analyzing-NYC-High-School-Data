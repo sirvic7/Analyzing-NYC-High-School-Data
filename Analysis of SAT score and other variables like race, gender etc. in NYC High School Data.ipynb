{
 "cells": [
  {
   "cell_type": "markdown",
   "metadata": {},
   "source": [
    "# Read in the data"
   ]
  },
  {
   "cell_type": "code",
   "execution_count": 149,
   "metadata": {},
   "outputs": [],
   "source": [
    "import pandas as pd\n",
    "import numpy as np\n",
    "import re\n",
    "\n",
    "data_files = [\n",
    "    \"ap_2010.csv\",\n",
    "    \"class_size.csv\",\n",
    "    \"demographics.csv\",\n",
    "    \"graduation.csv\",\n",
    "    \"hs_directory.csv\",\n",
    "    \"sat_results.csv\"\n",
    "]\n",
    "\n",
    "data = {}\n",
    "\n",
    "for f in data_files:\n",
    "    d = pd.read_csv(\"schools/{0}\".format(f))\n",
    "    data[f.replace(\".csv\", \"\")] = d"
   ]
  },
  {
   "cell_type": "markdown",
   "metadata": {},
   "source": [
    "**The datasets are in the schools folder. That means the path to ap_2010.csv is schools/ap_2010.csv.\n",
    "I added each of the dataframes to the dictionary data, using the base of the filename as the key. For example, you'd enter ap_2010 for the file ap_2010.csv.\n",
    "each key in data should have the corresponding dataframe as its value.**"
   ]
  },
  {
   "cell_type": "code",
   "execution_count": 150,
   "metadata": {},
   "outputs": [
    {
     "name": "stdout",
     "output_type": "stream",
     "text": [
      "      DBN                                    SCHOOL NAME  \\\n",
      "0  01M292  HENRY STREET SCHOOL FOR INTERNATIONAL STUDIES   \n",
      "1  01M448            UNIVERSITY NEIGHBORHOOD HIGH SCHOOL   \n",
      "2  01M450                     EAST SIDE COMMUNITY SCHOOL   \n",
      "3  01M458                      FORSYTH SATELLITE ACADEMY   \n",
      "4  01M509                        MARTA VALLE HIGH SCHOOL   \n",
      "\n",
      "  Num of SAT Test Takers SAT Critical Reading Avg. Score SAT Math Avg. Score  \\\n",
      "0                     29                             355                 404   \n",
      "1                     91                             383                 423   \n",
      "2                     70                             377                 402   \n",
      "3                      7                             414                 401   \n",
      "4                     44                             390                 433   \n",
      "\n",
      "  SAT Writing Avg. Score  \n",
      "0                    363  \n",
      "1                    366  \n",
      "2                    370  \n",
      "3                    359  \n",
      "4                    384  \n"
     ]
    }
   ],
   "source": [
    "print(data['sat_results'].head())"
   ]
  },
  {
   "cell_type": "markdown",
   "metadata": {},
   "source": [
    "**There's only a single row for each high school, so each DBN is unique in the SAT data.\n",
    "We may eventually want to combine the three columns that contain SAT scores -- SAT Critical Reading Avg. Score, SAT Math Avg. Score, and SAT Writing Avg. Score -- into a single column to make the scores easier to analyze.**"
   ]
  },
  {
   "cell_type": "markdown",
   "metadata": {},
   "source": [
    "**let's explore the remaining data inthe Data dictionary**"
   ]
  },
  {
   "cell_type": "code",
   "execution_count": 151,
   "metadata": {},
   "outputs": [
    {
     "name": "stdout",
     "output_type": "stream",
     "text": [
      "      DBN                             SchoolName AP Test Takers   \\\n",
      "0  01M448           UNIVERSITY NEIGHBORHOOD H.S.              39   \n",
      "1  01M450                 EAST SIDE COMMUNITY HS              19   \n",
      "2  01M515                    LOWER EASTSIDE PREP              24   \n",
      "3  01M539         NEW EXPLORATIONS SCI,TECH,MATH             255   \n",
      "4  02M296  High School of Hospitality Management               s   \n",
      "\n",
      "  Total Exams Taken Number of Exams with scores 3 4 or 5  \n",
      "0                49                                   10  \n",
      "1                21                                    s  \n",
      "2                26                                   24  \n",
      "3               377                                  191  \n",
      "4                 s                                    s  \n",
      "   CSD BOROUGH SCHOOL CODE                SCHOOL NAME GRADE  PROGRAM TYPE  \\\n",
      "0    1       M        M015  P.S. 015 Roberto Clemente     0K       GEN ED   \n",
      "1    1       M        M015  P.S. 015 Roberto Clemente     0K          CTT   \n",
      "2    1       M        M015  P.S. 015 Roberto Clemente     01       GEN ED   \n",
      "3    1       M        M015  P.S. 015 Roberto Clemente     01          CTT   \n",
      "4    1       M        M015  P.S. 015 Roberto Clemente     02       GEN ED   \n",
      "\n",
      "  CORE SUBJECT (MS CORE and 9-12 ONLY) CORE COURSE (MS CORE and 9-12 ONLY)  \\\n",
      "0                                    -                                   -   \n",
      "1                                    -                                   -   \n",
      "2                                    -                                   -   \n",
      "3                                    -                                   -   \n",
      "4                                    -                                   -   \n",
      "\n",
      "  SERVICE CATEGORY(K-9* ONLY)  NUMBER OF STUDENTS / SEATS FILLED  \\\n",
      "0                           -                               19.0   \n",
      "1                           -                               21.0   \n",
      "2                           -                               17.0   \n",
      "3                           -                               17.0   \n",
      "4                           -                               15.0   \n",
      "\n",
      "   NUMBER OF SECTIONS  AVERAGE CLASS SIZE  SIZE OF SMALLEST CLASS  \\\n",
      "0                 1.0                19.0                    19.0   \n",
      "1                 1.0                21.0                    21.0   \n",
      "2                 1.0                17.0                    17.0   \n",
      "3                 1.0                17.0                    17.0   \n",
      "4                 1.0                15.0                    15.0   \n",
      "\n",
      "   SIZE OF LARGEST CLASS DATA SOURCE  SCHOOLWIDE PUPIL-TEACHER RATIO  \n",
      "0                   19.0         ATS                             NaN  \n",
      "1                   21.0         ATS                             NaN  \n",
      "2                   17.0         ATS                             NaN  \n",
      "3                   17.0         ATS                             NaN  \n",
      "4                   15.0         ATS                             NaN  \n",
      "      DBN                       Name  schoolyear fl_percent  frl_percent  \\\n",
      "0  01M015  P.S. 015 ROBERTO CLEMENTE    20052006       89.4          NaN   \n",
      "1  01M015  P.S. 015 ROBERTO CLEMENTE    20062007       89.4          NaN   \n",
      "2  01M015  P.S. 015 ROBERTO CLEMENTE    20072008       89.4          NaN   \n",
      "3  01M015  P.S. 015 ROBERTO CLEMENTE    20082009       89.4          NaN   \n",
      "4  01M015  P.S. 015 ROBERTO CLEMENTE    20092010                    96.5   \n",
      "\n",
      "   total_enrollment prek   k grade1 grade2  ... black_num black_per  \\\n",
      "0               281   15  36     40     33  ...        74      26.3   \n",
      "1               243   15  29     39     38  ...        68      28.0   \n",
      "2               261   18  43     39     36  ...        77      29.5   \n",
      "3               252   17  37     44     32  ...        75      29.8   \n",
      "4               208   16  40     28     32  ...        67      32.2   \n",
      "\n",
      "  hispanic_num hispanic_per white_num white_per male_num male_per female_num  \\\n",
      "0          189         67.3         5       1.8    158.0     56.2      123.0   \n",
      "1          153         63.0         4       1.6    140.0     57.6      103.0   \n",
      "2          157         60.2         7       2.7    143.0     54.8      118.0   \n",
      "3          149         59.1         7       2.8    149.0     59.1      103.0   \n",
      "4          118         56.7         6       2.9    124.0     59.6       84.0   \n",
      "\n",
      "  female_per  \n",
      "0       43.8  \n",
      "1       42.4  \n",
      "2       45.2  \n",
      "3       40.9  \n",
      "4       40.4  \n",
      "\n",
      "[5 rows x 38 columns]\n",
      "    Demographic     DBN                            School Name    Cohort  \\\n",
      "0  Total Cohort  01M292  HENRY STREET SCHOOL FOR INTERNATIONAL      2003   \n",
      "1  Total Cohort  01M292  HENRY STREET SCHOOL FOR INTERNATIONAL      2004   \n",
      "2  Total Cohort  01M292  HENRY STREET SCHOOL FOR INTERNATIONAL      2005   \n",
      "3  Total Cohort  01M292  HENRY STREET SCHOOL FOR INTERNATIONAL      2006   \n",
      "4  Total Cohort  01M292  HENRY STREET SCHOOL FOR INTERNATIONAL  2006 Aug   \n",
      "\n",
      "   Total Cohort Total Grads - n Total Grads - % of cohort Total Regents - n  \\\n",
      "0             5               s                         s                 s   \n",
      "1            55              37                     67.3%                17   \n",
      "2            64              43                     67.2%                27   \n",
      "3            78              43                     55.1%                36   \n",
      "4            78              44                     56.4%                37   \n",
      "\n",
      "  Total Regents - % of cohort Total Regents - % of grads  ...  \\\n",
      "0                           s                          s  ...   \n",
      "1                       30.9%                      45.9%  ...   \n",
      "2                       42.2%                      62.8%  ...   \n",
      "3                       46.2%                      83.7%  ...   \n",
      "4                       47.4%                      84.1%  ...   \n",
      "\n",
      "  Regents w/o Advanced - n Regents w/o Advanced - % of cohort  \\\n",
      "0                        s                                  s   \n",
      "1                       17                              30.9%   \n",
      "2                       27                              42.2%   \n",
      "3                       36                              46.2%   \n",
      "4                       37                              47.4%   \n",
      "\n",
      "  Regents w/o Advanced - % of grads Local - n Local - % of cohort  \\\n",
      "0                                 s         s                   s   \n",
      "1                             45.9%        20               36.4%   \n",
      "2                             62.8%        16                 25%   \n",
      "3                             83.7%         7                  9%   \n",
      "4                             84.1%         7                  9%   \n",
      "\n",
      "    Local - % of grads Still Enrolled - n Still Enrolled - % of cohort  \\\n",
      "0                    s                  s                            s   \n",
      "1                54.1%                 15                        27.3%   \n",
      "2  37.200000000000003%                  9                        14.1%   \n",
      "3                16.3%                 16                        20.5%   \n",
      "4                15.9%                 15                        19.2%   \n",
      "\n",
      "  Dropped Out - n Dropped Out - % of cohort  \n",
      "0               s                         s  \n",
      "1               3                      5.5%  \n",
      "2               9                     14.1%  \n",
      "3              11                     14.1%  \n",
      "4              11                     14.1%  \n",
      "\n",
      "[5 rows x 23 columns]\n",
      "      dbn                                        school_name       boro  \\\n",
      "0  17K548                Brooklyn School for Music & Theatre   Brooklyn   \n",
      "1  09X543                   High School for Violin and Dance      Bronx   \n",
      "2  09X327        Comprehensive Model School Project M.S. 327      Bronx   \n",
      "3  02M280     Manhattan Early College School for Advertising  Manhattan   \n",
      "4  28Q680  Queens Gateway to Health Sciences Secondary Sc...     Queens   \n",
      "\n",
      "  building_code    phone_number    fax_number grade_span_min  grade_span_max  \\\n",
      "0          K440    718-230-6250  718-230-6262              9              12   \n",
      "1          X400    718-842-0687  718-589-9849              9              12   \n",
      "2          X240    718-294-8111  718-294-8109              6              12   \n",
      "3          M520  718-935-3477             NaN              9              10   \n",
      "4          Q695    718-969-3155  718-969-3552              6              12   \n",
      "\n",
      "  expgrade_span_min  expgrade_span_max  ...  \\\n",
      "0               NaN                NaN  ...   \n",
      "1               NaN                NaN  ...   \n",
      "2               NaN                NaN  ...   \n",
      "3                 9               14.0  ...   \n",
      "4               NaN                NaN  ...   \n",
      "\n",
      "                                          priority02  \\\n",
      "0                    Then to New York City residents   \n",
      "1  Then to New York City residents who attend an ...   \n",
      "2  Then to Bronx students or residents who attend...   \n",
      "3  Then to New York City residents who attend an ...   \n",
      "4  Then to Districts 28 and 29 students or residents   \n",
      "\n",
      "                                          priority03  \\\n",
      "0                                                NaN   \n",
      "1                Then to Bronx students or residents   \n",
      "2  Then to New York City residents who attend an ...   \n",
      "3          Then to Manhattan students or residents     \n",
      "4               Then to Queens students or residents   \n",
      "\n",
      "                            priority04                       priority05  \\\n",
      "0                                  NaN                              NaN   \n",
      "1      Then to New York City residents                              NaN   \n",
      "2  Then to Bronx students or residents  Then to New York City residents   \n",
      "3      Then to New York City residents                              NaN   \n",
      "4      Then to New York City residents                              NaN   \n",
      "\n",
      "  priority06  priority07 priority08  priority09 priority10  \\\n",
      "0        NaN         NaN        NaN         NaN        NaN   \n",
      "1        NaN         NaN        NaN         NaN        NaN   \n",
      "2        NaN         NaN        NaN         NaN        NaN   \n",
      "3        NaN         NaN        NaN         NaN        NaN   \n",
      "4        NaN         NaN        NaN         NaN        NaN   \n",
      "\n",
      "                                          Location 1  \n",
      "0  883 Classon Avenue\\nBrooklyn, NY 11225\\n(40.67...  \n",
      "1  1110 Boston Road\\nBronx, NY 10456\\n(40.8276026...  \n",
      "2  1501 Jerome Avenue\\nBronx, NY 10452\\n(40.84241...  \n",
      "3  411 Pearl Street\\nNew York, NY 10038\\n(40.7106...  \n",
      "4  160-20 Goethals Avenue\\nJamaica, NY 11432\\n(40...  \n",
      "\n",
      "[5 rows x 58 columns]\n",
      "      DBN                                    SCHOOL NAME  \\\n",
      "0  01M292  HENRY STREET SCHOOL FOR INTERNATIONAL STUDIES   \n",
      "1  01M448            UNIVERSITY NEIGHBORHOOD HIGH SCHOOL   \n",
      "2  01M450                     EAST SIDE COMMUNITY SCHOOL   \n",
      "3  01M458                      FORSYTH SATELLITE ACADEMY   \n",
      "4  01M509                        MARTA VALLE HIGH SCHOOL   \n",
      "\n",
      "  Num of SAT Test Takers SAT Critical Reading Avg. Score SAT Math Avg. Score  \\\n",
      "0                     29                             355                 404   \n",
      "1                     91                             383                 423   \n",
      "2                     70                             377                 402   \n",
      "3                      7                             414                 401   \n",
      "4                     44                             390                 433   \n",
      "\n",
      "  SAT Writing Avg. Score  \n",
      "0                    363  \n",
      "1                    366  \n",
      "2                    370  \n",
      "3                    359  \n",
      "4                    384  \n"
     ]
    }
   ],
   "source": [
    "for i in data:\n",
    "    print(data[i].iloc[0:5])"
   ]
  },
  {
   "cell_type": "markdown",
   "metadata": {},
   "source": [
    "We can make some observations based on the first few rows of each one.\n",
    "\n",
    "* Each dataset appears to either have a DBN column or the information we need to create one. That means we can use a DBN column to combine the datasets. First we'll pinpoint matching rows from different datasets by looking for identical DBNs, then group all of their columns together in a single dataset.\n",
    "* Some fields look interesting for mapping -- particularly Location 1, which contains coordinates inside a larger string.\n",
    "* Some of the datasets appear to contain multiple rows for each school (because the rows have duplicate DBN values). That means we’ll have to do some preprocessing to ensure that each DBN is unique within each dataset. If we don't do this, we'll run into problems when we combine the datasets, because we might be merging two rows in one data set with one row in another dataset.\n",
    "\n",
    "Before we proceed with the merge, we should make sure we have all of the data we want to unify. We mentioned the survey data earlier (survey_all.txt and survey_d75.txt)\n"
   ]
  },
  {
   "cell_type": "markdown",
   "metadata": {},
   "source": [
    "# Read in the surveys"
   ]
  },
  {
   "cell_type": "code",
   "execution_count": 152,
   "metadata": {},
   "outputs": [],
   "source": [
    "all_survey = pd.read_csv(\"schools/survey_all.txt\", delimiter=\"\\t\", encoding='windows-1252')\n",
    "d75_survey = pd.read_csv(\"schools/survey_d75.txt\", delimiter=\"\\t\", encoding='windows-1252')\n",
    "survey = pd.concat([all_survey, d75_survey], axis=0)\n"
   ]
  },
  {
   "cell_type": "code",
   "execution_count": 153,
   "metadata": {},
   "outputs": [
    {
     "name": "stdout",
     "output_type": "stream",
     "text": [
      "      dbn    bn                      schoolname  d75 studentssurveyed  \\\n",
      "0  01M015  M015       P.S. 015 Roberto Clemente    0               No   \n",
      "1  01M019  M019             P.S. 019 Asher Levy    0               No   \n",
      "2  01M020  M020            P.S. 020 Anna Silver    0               No   \n",
      "3  01M034  M034  P.S. 034 Franklin D. Roosevelt    0              Yes   \n",
      "4  01M063  M063       P.S. 063 William McKinley    0               No   \n",
      "\n",
      "   highschool                  schooltype  rr_s  rr_t  rr_p  ...  s_q14_2  \\\n",
      "0         0.0           Elementary School   NaN    88    60  ...      NaN   \n",
      "1         0.0           Elementary School   NaN   100    60  ...      NaN   \n",
      "2         0.0           Elementary School   NaN    88    73  ...      NaN   \n",
      "3         0.0  Elementary / Middle School  89.0    73    50  ...      NaN   \n",
      "4         0.0           Elementary School   NaN   100    60  ...      NaN   \n",
      "\n",
      "   s_q14_3  s_q14_4  s_q14_5  s_q14_6  s_q14_7  s_q14_8  s_q14_9  s_q14_10  \\\n",
      "0      NaN      NaN      NaN      NaN      NaN      NaN      NaN       NaN   \n",
      "1      NaN      NaN      NaN      NaN      NaN      NaN      NaN       NaN   \n",
      "2      NaN      NaN      NaN      NaN      NaN      NaN      NaN       NaN   \n",
      "3      NaN      NaN      NaN      NaN      NaN      NaN      NaN       NaN   \n",
      "4      NaN      NaN      NaN      NaN      NaN      NaN      NaN       NaN   \n",
      "\n",
      "   s_q14_11  \n",
      "0       NaN  \n",
      "1       NaN  \n",
      "2       NaN  \n",
      "3       NaN  \n",
      "4       NaN  \n",
      "\n",
      "[5 rows x 2773 columns]\n"
     ]
    }
   ],
   "source": [
    "print(survey.head())"
   ]
  },
  {
   "cell_type": "markdown",
   "metadata": {},
   "source": [
    "There are two immediate facts that we can see in the data:\n",
    "\n",
    "* There are over 2000 columns, nearly all of which we don't need. We'll have to filter the data to remove the unnecessary ones. Working with fewer columns makes it easier to print the dataframe out and find correlations within it.\n",
    "* The survey data has a dbn column that we'll want to convert to uppercase (DBN). The conversion makes the column name consistent with the other data sets.\n",
    "\n",
    "The next step is to filter the columns to remove the ones we don't need. Luckily, there's a data dictionary at the [original data download location](https://data.cityofnewyork.us/Education/2011-NYC-School-Survey/mnz3-dyi8). The dictionary tells us what each column represents. Based on our knowledge of the problem and the analysis we're trying to do, we will use the below varaibles in the table which represents survey responses."
   ]
  },
  {
   "cell_type": "code",
   "execution_count": 154,
   "metadata": {},
   "outputs": [],
   "source": [
    "survey[\"DBN\"] = survey[\"dbn\"] #rename the dbn column to DBN to match the column with other datasets\n",
    "\n",
    "survey_fields = [\n",
    "    \"DBN\", \n",
    "    \"rr_s\", \n",
    "    \"rr_t\", \n",
    "    \"rr_p\", \n",
    "    \"N_s\", \n",
    "    \"N_t\", \n",
    "    \"N_p\", \n",
    "    \"saf_p_11\", \n",
    "    \"com_p_11\", \n",
    "    \"eng_p_11\", \n",
    "    \"aca_p_11\", \n",
    "    \"saf_t_11\", \n",
    "    \"com_t_11\", \n",
    "    \"eng_t_11\", \n",
    "    \"aca_t_11\", \n",
    "    \"saf_s_11\", \n",
    "    \"com_s_11\", \n",
    "    \"eng_s_11\", \n",
    "    \"aca_s_11\", \n",
    "    \"saf_tot_11\", \n",
    "    \"com_tot_11\", \n",
    "    \"eng_tot_11\", \n",
    "    \"aca_tot_11\",\n",
    "]\n",
    "survey = survey.loc[:,survey_fields]\n",
    "data[\"survey\"] = survey"
   ]
  },
  {
   "cell_type": "code",
   "execution_count": 155,
   "metadata": {},
   "outputs": [
    {
     "data": {
      "text/html": [
       "<div>\n",
       "<style scoped>\n",
       "    .dataframe tbody tr th:only-of-type {\n",
       "        vertical-align: middle;\n",
       "    }\n",
       "\n",
       "    .dataframe tbody tr th {\n",
       "        vertical-align: top;\n",
       "    }\n",
       "\n",
       "    .dataframe thead th {\n",
       "        text-align: right;\n",
       "    }\n",
       "</style>\n",
       "<table border=\"1\" class=\"dataframe\">\n",
       "  <thead>\n",
       "    <tr style=\"text-align: right;\">\n",
       "      <th></th>\n",
       "      <th>DBN</th>\n",
       "      <th>rr_s</th>\n",
       "      <th>rr_t</th>\n",
       "      <th>rr_p</th>\n",
       "      <th>N_s</th>\n",
       "      <th>N_t</th>\n",
       "      <th>N_p</th>\n",
       "      <th>saf_p_11</th>\n",
       "      <th>com_p_11</th>\n",
       "      <th>eng_p_11</th>\n",
       "      <th>...</th>\n",
       "      <th>eng_t_11</th>\n",
       "      <th>aca_t_11</th>\n",
       "      <th>saf_s_11</th>\n",
       "      <th>com_s_11</th>\n",
       "      <th>eng_s_11</th>\n",
       "      <th>aca_s_11</th>\n",
       "      <th>saf_tot_11</th>\n",
       "      <th>com_tot_11</th>\n",
       "      <th>eng_tot_11</th>\n",
       "      <th>aca_tot_11</th>\n",
       "    </tr>\n",
       "  </thead>\n",
       "  <tbody>\n",
       "    <tr>\n",
       "      <th>0</th>\n",
       "      <td>01M015</td>\n",
       "      <td>NaN</td>\n",
       "      <td>88</td>\n",
       "      <td>60</td>\n",
       "      <td>NaN</td>\n",
       "      <td>22.0</td>\n",
       "      <td>90.0</td>\n",
       "      <td>8.5</td>\n",
       "      <td>7.6</td>\n",
       "      <td>7.5</td>\n",
       "      <td>...</td>\n",
       "      <td>7.6</td>\n",
       "      <td>7.9</td>\n",
       "      <td>NaN</td>\n",
       "      <td>NaN</td>\n",
       "      <td>NaN</td>\n",
       "      <td>NaN</td>\n",
       "      <td>8.0</td>\n",
       "      <td>7.7</td>\n",
       "      <td>7.5</td>\n",
       "      <td>7.9</td>\n",
       "    </tr>\n",
       "    <tr>\n",
       "      <th>1</th>\n",
       "      <td>01M019</td>\n",
       "      <td>NaN</td>\n",
       "      <td>100</td>\n",
       "      <td>60</td>\n",
       "      <td>NaN</td>\n",
       "      <td>34.0</td>\n",
       "      <td>161.0</td>\n",
       "      <td>8.4</td>\n",
       "      <td>7.6</td>\n",
       "      <td>7.6</td>\n",
       "      <td>...</td>\n",
       "      <td>8.9</td>\n",
       "      <td>9.1</td>\n",
       "      <td>NaN</td>\n",
       "      <td>NaN</td>\n",
       "      <td>NaN</td>\n",
       "      <td>NaN</td>\n",
       "      <td>8.5</td>\n",
       "      <td>8.1</td>\n",
       "      <td>8.2</td>\n",
       "      <td>8.4</td>\n",
       "    </tr>\n",
       "    <tr>\n",
       "      <th>2</th>\n",
       "      <td>01M020</td>\n",
       "      <td>NaN</td>\n",
       "      <td>88</td>\n",
       "      <td>73</td>\n",
       "      <td>NaN</td>\n",
       "      <td>42.0</td>\n",
       "      <td>367.0</td>\n",
       "      <td>8.9</td>\n",
       "      <td>8.3</td>\n",
       "      <td>8.3</td>\n",
       "      <td>...</td>\n",
       "      <td>6.8</td>\n",
       "      <td>7.5</td>\n",
       "      <td>NaN</td>\n",
       "      <td>NaN</td>\n",
       "      <td>NaN</td>\n",
       "      <td>NaN</td>\n",
       "      <td>8.2</td>\n",
       "      <td>7.3</td>\n",
       "      <td>7.5</td>\n",
       "      <td>8.0</td>\n",
       "    </tr>\n",
       "    <tr>\n",
       "      <th>3</th>\n",
       "      <td>01M034</td>\n",
       "      <td>89.0</td>\n",
       "      <td>73</td>\n",
       "      <td>50</td>\n",
       "      <td>145.0</td>\n",
       "      <td>29.0</td>\n",
       "      <td>151.0</td>\n",
       "      <td>8.8</td>\n",
       "      <td>8.2</td>\n",
       "      <td>8.0</td>\n",
       "      <td>...</td>\n",
       "      <td>6.8</td>\n",
       "      <td>7.8</td>\n",
       "      <td>6.2</td>\n",
       "      <td>5.9</td>\n",
       "      <td>6.5</td>\n",
       "      <td>7.4</td>\n",
       "      <td>7.3</td>\n",
       "      <td>6.7</td>\n",
       "      <td>7.1</td>\n",
       "      <td>7.9</td>\n",
       "    </tr>\n",
       "    <tr>\n",
       "      <th>4</th>\n",
       "      <td>01M063</td>\n",
       "      <td>NaN</td>\n",
       "      <td>100</td>\n",
       "      <td>60</td>\n",
       "      <td>NaN</td>\n",
       "      <td>23.0</td>\n",
       "      <td>90.0</td>\n",
       "      <td>8.7</td>\n",
       "      <td>7.9</td>\n",
       "      <td>8.1</td>\n",
       "      <td>...</td>\n",
       "      <td>7.8</td>\n",
       "      <td>8.1</td>\n",
       "      <td>NaN</td>\n",
       "      <td>NaN</td>\n",
       "      <td>NaN</td>\n",
       "      <td>NaN</td>\n",
       "      <td>8.5</td>\n",
       "      <td>7.6</td>\n",
       "      <td>7.9</td>\n",
       "      <td>8.0</td>\n",
       "    </tr>\n",
       "  </tbody>\n",
       "</table>\n",
       "<p>5 rows × 23 columns</p>\n",
       "</div>"
      ],
      "text/plain": [
       "      DBN  rr_s  rr_t  rr_p    N_s   N_t    N_p  saf_p_11  com_p_11  eng_p_11  \\\n",
       "0  01M015   NaN    88    60    NaN  22.0   90.0       8.5       7.6       7.5   \n",
       "1  01M019   NaN   100    60    NaN  34.0  161.0       8.4       7.6       7.6   \n",
       "2  01M020   NaN    88    73    NaN  42.0  367.0       8.9       8.3       8.3   \n",
       "3  01M034  89.0    73    50  145.0  29.0  151.0       8.8       8.2       8.0   \n",
       "4  01M063   NaN   100    60    NaN  23.0   90.0       8.7       7.9       8.1   \n",
       "\n",
       "   ...  eng_t_11  aca_t_11  saf_s_11  com_s_11  eng_s_11  aca_s_11  \\\n",
       "0  ...       7.6       7.9       NaN       NaN       NaN       NaN   \n",
       "1  ...       8.9       9.1       NaN       NaN       NaN       NaN   \n",
       "2  ...       6.8       7.5       NaN       NaN       NaN       NaN   \n",
       "3  ...       6.8       7.8       6.2       5.9       6.5       7.4   \n",
       "4  ...       7.8       8.1       NaN       NaN       NaN       NaN   \n",
       "\n",
       "   saf_tot_11  com_tot_11  eng_tot_11  aca_tot_11  \n",
       "0         8.0         7.7         7.5         7.9  \n",
       "1         8.5         8.1         8.2         8.4  \n",
       "2         8.2         7.3         7.5         8.0  \n",
       "3         7.3         6.7         7.1         7.9  \n",
       "4         8.5         7.6         7.9         8.0  \n",
       "\n",
       "[5 rows x 23 columns]"
      ]
     },
     "execution_count": 155,
     "metadata": {},
     "output_type": "execute_result"
    }
   ],
   "source": [
    "survey.head()"
   ]
  },
  {
   "cell_type": "markdown",
   "metadata": {},
   "source": [
    "**When we explored all of the datasets, we noticed that some of them, like class_size and hs_directory, don't have a DBN column. hs_directory does have a dbn column, though, so we can just rename it.**\n",
    "\n",
    "**From looking at these rows, we can tell that the DBN in the sat_results data is just a combination of the CSD and SCHOOL CODE columns in the class_size data. The main difference is that the DBN is padded, so that the CSD portion of it always consists of two digits. That means we'll need to add a leading 0 to the CSD if the CSD is less than two digits long.**"
   ]
  },
  {
   "cell_type": "markdown",
   "metadata": {},
   "source": [
    "# Add DBN columns"
   ]
  },
  {
   "cell_type": "markdown",
   "metadata": {},
   "source": [
    "i'll create a custom function that:\n",
    "\n",
    "* Takes in a number.\n",
    "* Converts the number to a string using the str() function.\n",
    "* Check the length of the string using the len() function.\n",
    "   * If the string is two digits long, returns the string.\n",
    "   * If the string is one digit long, adds a 0 to the front of the string, then returns it \n",
    "   \n",
    "**After padding the CSD, i'll use the addition operator (+) to combine the values in the CSD and SCHOOL CODE columns to get the DBN column**"
   ]
  },
  {
   "cell_type": "code",
   "execution_count": 156,
   "metadata": {},
   "outputs": [],
   "source": [
    "data[\"hs_directory\"][\"DBN\"] = data[\"hs_directory\"][\"dbn\"] #renaming the dbn column to DBN\n",
    "\n",
    "def pad_csd(num):\n",
    "    string_representation = str(num)\n",
    "    if len(string_representation) > 1:\n",
    "        return string_representation\n",
    "    else:\n",
    "        return \"0\" + string_representation\n",
    "    \n",
    "data[\"class_size\"][\"padded_csd\"] = data[\"class_size\"][\"CSD\"].apply(pad_csd)\n",
    "data[\"class_size\"][\"DBN\"] = data[\"class_size\"][\"padded_csd\"] + data[\"class_size\"][\"SCHOOL CODE\"]"
   ]
  },
  {
   "cell_type": "code",
   "execution_count": 157,
   "metadata": {},
   "outputs": [],
   "source": [
    "#Alternatively, we can use the below function\n",
    "def pad_csd(num):\n",
    "    return str(num).zfill(2)"
   ]
  },
  {
   "cell_type": "markdown",
   "metadata": {},
   "source": [
    "# Convert columns to numeric"
   ]
  },
  {
   "cell_type": "markdown",
   "metadata": {},
   "source": [
    "Now we're almost ready to combine our datasets. Before we do, let's take some time to calculate variables that are useful in our analysis. lets add add the SAT scores together, This makes it much easier to correlate scores with demographic factors because we'll be working with a single number, rather than three different ones.\n",
    "\n",
    "Before we can generate this column, we'll need to convert the SAT Math Avg. Score, SAT Critical Reading Avg. Score, and SAT Writing Avg. Score columns in the sat_results dataset from the object (string) data type to a numeric data type."
   ]
  },
  {
   "cell_type": "code",
   "execution_count": 158,
   "metadata": {},
   "outputs": [],
   "source": [
    "cols = ['SAT Math Avg. Score', 'SAT Critical Reading Avg. Score', 'SAT Writing Avg. Score']\n",
    "for c in cols:\n",
    "    data[\"sat_results\"][c] = pd.to_numeric(data[\"sat_results\"][c], errors=\"coerce\")\n",
    "\n",
    "data['sat_results']['sat_score'] = data['sat_results'][cols[0]] + data['sat_results'][cols[1]] + data['sat_results'][cols[2]]"
   ]
  },
  {
   "cell_type": "markdown",
   "metadata": {},
   "source": [
    "# Parsing Geographic Coordinates for Schools"
   ]
  },
  {
   "cell_type": "markdown",
   "metadata": {},
   "source": [
    "Next, we'll want to parse the latitude and longitude coordinates for each school. This enables us to map the schools and uncover any geographic patterns in the data. The coordinates are currently in the text field Location 1 in the hs_directory dataset."
   ]
  },
  {
   "cell_type": "code",
   "execution_count": 159,
   "metadata": {},
   "outputs": [
    {
     "data": {
      "text/plain": [
       "0    883 Classon Avenue\\nBrooklyn, NY 11225\\n(40.67...\n",
       "1    1110 Boston Road\\nBronx, NY 10456\\n(40.8276026...\n",
       "2    1501 Jerome Avenue\\nBronx, NY 10452\\n(40.84241...\n",
       "3    411 Pearl Street\\nNew York, NY 10038\\n(40.7106...\n",
       "4    160-20 Goethals Avenue\\nJamaica, NY 11432\\n(40...\n",
       "Name: Location 1, dtype: object"
      ]
     },
     "execution_count": 159,
     "metadata": {},
     "output_type": "execute_result"
    }
   ],
   "source": [
    "data['hs_directory']['Location 1'].head()"
   ]
  },
  {
   "cell_type": "markdown",
   "metadata": {},
   "source": [
    "We want to extract the coordinates, which are in parentheses at the end of the field. i'll use the string methods split() and replace() methods to extract each coordinate, then add two new column to the dataset one for longitude and the other for latitude. Below i'll create a function to handle this."
   ]
  },
  {
   "cell_type": "code",
   "execution_count": 160,
   "metadata": {},
   "outputs": [],
   "source": [
    "\n",
    "def find_lat(loc):\n",
    "    coords = re.findall(\"\\(.+, .+\\)\", loc)\n",
    "    lat = coords[0].split(\",\")[0].replace(\"(\", \"\")\n",
    "    return lat\n",
    "\n",
    "def find_lon(loc):\n",
    "    coords = re.findall(\"\\(.+, .+\\)\", loc)\n",
    "    lon = coords[0].split(\",\")[1].replace(\")\", \"\").strip()\n",
    "    return lon\n",
    "\n",
    "data[\"hs_directory\"][\"lat\"] = data[\"hs_directory\"][\"Location 1\"].apply(find_lat)\n",
    "data[\"hs_directory\"][\"lon\"] = data[\"hs_directory\"][\"Location 1\"].apply(find_lon)\n",
    "\n",
    "data[\"hs_directory\"][\"lat\"] = pd.to_numeric(data[\"hs_directory\"][\"lat\"], errors=\"coerce\")\n",
    "data[\"hs_directory\"][\"lon\"] = pd.to_numeric(data[\"hs_directory\"][\"lon\"], errors=\"coerce\")"
   ]
  },
  {
   "cell_type": "markdown",
   "metadata": {},
   "source": [
    "# Condense datasets"
   ]
  },
  {
   "cell_type": "markdown",
   "metadata": {},
   "source": [
    "**The first dataset that we'll condense is class_size**"
   ]
  },
  {
   "cell_type": "code",
   "execution_count": 161,
   "metadata": {},
   "outputs": [],
   "source": [
    "class_size = data[\"class_size\"]"
   ]
  },
  {
   "cell_type": "code",
   "execution_count": 162,
   "metadata": {},
   "outputs": [
    {
     "data": {
      "text/html": [
       "<div>\n",
       "<style scoped>\n",
       "    .dataframe tbody tr th:only-of-type {\n",
       "        vertical-align: middle;\n",
       "    }\n",
       "\n",
       "    .dataframe tbody tr th {\n",
       "        vertical-align: top;\n",
       "    }\n",
       "\n",
       "    .dataframe thead th {\n",
       "        text-align: right;\n",
       "    }\n",
       "</style>\n",
       "<table border=\"1\" class=\"dataframe\">\n",
       "  <thead>\n",
       "    <tr style=\"text-align: right;\">\n",
       "      <th></th>\n",
       "      <th>CSD</th>\n",
       "      <th>BOROUGH</th>\n",
       "      <th>SCHOOL CODE</th>\n",
       "      <th>SCHOOL NAME</th>\n",
       "      <th>GRADE</th>\n",
       "      <th>PROGRAM TYPE</th>\n",
       "      <th>CORE SUBJECT (MS CORE and 9-12 ONLY)</th>\n",
       "      <th>CORE COURSE (MS CORE and 9-12 ONLY)</th>\n",
       "      <th>SERVICE CATEGORY(K-9* ONLY)</th>\n",
       "      <th>NUMBER OF STUDENTS / SEATS FILLED</th>\n",
       "      <th>NUMBER OF SECTIONS</th>\n",
       "      <th>AVERAGE CLASS SIZE</th>\n",
       "      <th>SIZE OF SMALLEST CLASS</th>\n",
       "      <th>SIZE OF LARGEST CLASS</th>\n",
       "      <th>DATA SOURCE</th>\n",
       "      <th>SCHOOLWIDE PUPIL-TEACHER RATIO</th>\n",
       "      <th>padded_csd</th>\n",
       "      <th>DBN</th>\n",
       "    </tr>\n",
       "  </thead>\n",
       "  <tbody>\n",
       "    <tr>\n",
       "      <th>0</th>\n",
       "      <td>1</td>\n",
       "      <td>M</td>\n",
       "      <td>M015</td>\n",
       "      <td>P.S. 015 Roberto Clemente</td>\n",
       "      <td>0K</td>\n",
       "      <td>GEN ED</td>\n",
       "      <td>-</td>\n",
       "      <td>-</td>\n",
       "      <td>-</td>\n",
       "      <td>19.0</td>\n",
       "      <td>1.0</td>\n",
       "      <td>19.0</td>\n",
       "      <td>19.0</td>\n",
       "      <td>19.0</td>\n",
       "      <td>ATS</td>\n",
       "      <td>NaN</td>\n",
       "      <td>01</td>\n",
       "      <td>01M015</td>\n",
       "    </tr>\n",
       "    <tr>\n",
       "      <th>1</th>\n",
       "      <td>1</td>\n",
       "      <td>M</td>\n",
       "      <td>M015</td>\n",
       "      <td>P.S. 015 Roberto Clemente</td>\n",
       "      <td>0K</td>\n",
       "      <td>CTT</td>\n",
       "      <td>-</td>\n",
       "      <td>-</td>\n",
       "      <td>-</td>\n",
       "      <td>21.0</td>\n",
       "      <td>1.0</td>\n",
       "      <td>21.0</td>\n",
       "      <td>21.0</td>\n",
       "      <td>21.0</td>\n",
       "      <td>ATS</td>\n",
       "      <td>NaN</td>\n",
       "      <td>01</td>\n",
       "      <td>01M015</td>\n",
       "    </tr>\n",
       "    <tr>\n",
       "      <th>2</th>\n",
       "      <td>1</td>\n",
       "      <td>M</td>\n",
       "      <td>M015</td>\n",
       "      <td>P.S. 015 Roberto Clemente</td>\n",
       "      <td>01</td>\n",
       "      <td>GEN ED</td>\n",
       "      <td>-</td>\n",
       "      <td>-</td>\n",
       "      <td>-</td>\n",
       "      <td>17.0</td>\n",
       "      <td>1.0</td>\n",
       "      <td>17.0</td>\n",
       "      <td>17.0</td>\n",
       "      <td>17.0</td>\n",
       "      <td>ATS</td>\n",
       "      <td>NaN</td>\n",
       "      <td>01</td>\n",
       "      <td>01M015</td>\n",
       "    </tr>\n",
       "    <tr>\n",
       "      <th>3</th>\n",
       "      <td>1</td>\n",
       "      <td>M</td>\n",
       "      <td>M015</td>\n",
       "      <td>P.S. 015 Roberto Clemente</td>\n",
       "      <td>01</td>\n",
       "      <td>CTT</td>\n",
       "      <td>-</td>\n",
       "      <td>-</td>\n",
       "      <td>-</td>\n",
       "      <td>17.0</td>\n",
       "      <td>1.0</td>\n",
       "      <td>17.0</td>\n",
       "      <td>17.0</td>\n",
       "      <td>17.0</td>\n",
       "      <td>ATS</td>\n",
       "      <td>NaN</td>\n",
       "      <td>01</td>\n",
       "      <td>01M015</td>\n",
       "    </tr>\n",
       "    <tr>\n",
       "      <th>4</th>\n",
       "      <td>1</td>\n",
       "      <td>M</td>\n",
       "      <td>M015</td>\n",
       "      <td>P.S. 015 Roberto Clemente</td>\n",
       "      <td>02</td>\n",
       "      <td>GEN ED</td>\n",
       "      <td>-</td>\n",
       "      <td>-</td>\n",
       "      <td>-</td>\n",
       "      <td>15.0</td>\n",
       "      <td>1.0</td>\n",
       "      <td>15.0</td>\n",
       "      <td>15.0</td>\n",
       "      <td>15.0</td>\n",
       "      <td>ATS</td>\n",
       "      <td>NaN</td>\n",
       "      <td>01</td>\n",
       "      <td>01M015</td>\n",
       "    </tr>\n",
       "    <tr>\n",
       "      <th>...</th>\n",
       "      <td>...</td>\n",
       "      <td>...</td>\n",
       "      <td>...</td>\n",
       "      <td>...</td>\n",
       "      <td>...</td>\n",
       "      <td>...</td>\n",
       "      <td>...</td>\n",
       "      <td>...</td>\n",
       "      <td>...</td>\n",
       "      <td>...</td>\n",
       "      <td>...</td>\n",
       "      <td>...</td>\n",
       "      <td>...</td>\n",
       "      <td>...</td>\n",
       "      <td>...</td>\n",
       "      <td>...</td>\n",
       "      <td>...</td>\n",
       "      <td>...</td>\n",
       "    </tr>\n",
       "    <tr>\n",
       "      <th>27606</th>\n",
       "      <td>32</td>\n",
       "      <td>K</td>\n",
       "      <td>K564</td>\n",
       "      <td>Bushwick Community High School</td>\n",
       "      <td>09-12</td>\n",
       "      <td>GEN ED</td>\n",
       "      <td>SOCIAL STUDIES</td>\n",
       "      <td>US History &amp; Government</td>\n",
       "      <td>-</td>\n",
       "      <td>256.0</td>\n",
       "      <td>10.0</td>\n",
       "      <td>25.6</td>\n",
       "      <td>15.0</td>\n",
       "      <td>35.0</td>\n",
       "      <td>STARS</td>\n",
       "      <td>NaN</td>\n",
       "      <td>32</td>\n",
       "      <td>32K564</td>\n",
       "    </tr>\n",
       "    <tr>\n",
       "      <th>27607</th>\n",
       "      <td>32</td>\n",
       "      <td>K</td>\n",
       "      <td>K564</td>\n",
       "      <td>Bushwick Community High School</td>\n",
       "      <td>09-12</td>\n",
       "      <td>GEN ED</td>\n",
       "      <td>SOCIAL STUDIES</td>\n",
       "      <td>Economics</td>\n",
       "      <td>-</td>\n",
       "      <td>65.0</td>\n",
       "      <td>2.0</td>\n",
       "      <td>32.5</td>\n",
       "      <td>32.0</td>\n",
       "      <td>33.0</td>\n",
       "      <td>STARS</td>\n",
       "      <td>NaN</td>\n",
       "      <td>32</td>\n",
       "      <td>32K564</td>\n",
       "    </tr>\n",
       "    <tr>\n",
       "      <th>27608</th>\n",
       "      <td>32</td>\n",
       "      <td>K</td>\n",
       "      <td>K564</td>\n",
       "      <td>Bushwick Community High School</td>\n",
       "      <td>09-12</td>\n",
       "      <td>GEN ED</td>\n",
       "      <td>SOCIAL STUDIES</td>\n",
       "      <td>Participation in Government</td>\n",
       "      <td>-</td>\n",
       "      <td>53.0</td>\n",
       "      <td>2.0</td>\n",
       "      <td>26.5</td>\n",
       "      <td>25.0</td>\n",
       "      <td>28.0</td>\n",
       "      <td>STARS</td>\n",
       "      <td>NaN</td>\n",
       "      <td>32</td>\n",
       "      <td>32K564</td>\n",
       "    </tr>\n",
       "    <tr>\n",
       "      <th>27609</th>\n",
       "      <td>32</td>\n",
       "      <td>K</td>\n",
       "      <td>K564</td>\n",
       "      <td>Bushwick Community High School</td>\n",
       "      <td>09-12</td>\n",
       "      <td>CTT</td>\n",
       "      <td>MATH</td>\n",
       "      <td>Integrated Algebra</td>\n",
       "      <td>-</td>\n",
       "      <td>50.0</td>\n",
       "      <td>2.0</td>\n",
       "      <td>25.0</td>\n",
       "      <td>25.0</td>\n",
       "      <td>25.0</td>\n",
       "      <td>STARS</td>\n",
       "      <td>NaN</td>\n",
       "      <td>32</td>\n",
       "      <td>32K564</td>\n",
       "    </tr>\n",
       "    <tr>\n",
       "      <th>27610</th>\n",
       "      <td>32</td>\n",
       "      <td>K</td>\n",
       "      <td>K564</td>\n",
       "      <td>Bushwick Community High School</td>\n",
       "      <td>NaN</td>\n",
       "      <td>NaN</td>\n",
       "      <td>NaN</td>\n",
       "      <td>NaN</td>\n",
       "      <td>NaN</td>\n",
       "      <td>NaN</td>\n",
       "      <td>NaN</td>\n",
       "      <td>NaN</td>\n",
       "      <td>NaN</td>\n",
       "      <td>NaN</td>\n",
       "      <td>NaN</td>\n",
       "      <td>17.1</td>\n",
       "      <td>32</td>\n",
       "      <td>32K564</td>\n",
       "    </tr>\n",
       "  </tbody>\n",
       "</table>\n",
       "<p>27611 rows × 18 columns</p>\n",
       "</div>"
      ],
      "text/plain": [
       "       CSD BOROUGH SCHOOL CODE                     SCHOOL NAME GRADE   \\\n",
       "0        1       M        M015       P.S. 015 Roberto Clemente     0K   \n",
       "1        1       M        M015       P.S. 015 Roberto Clemente     0K   \n",
       "2        1       M        M015       P.S. 015 Roberto Clemente     01   \n",
       "3        1       M        M015       P.S. 015 Roberto Clemente     01   \n",
       "4        1       M        M015       P.S. 015 Roberto Clemente     02   \n",
       "...    ...     ...         ...                             ...    ...   \n",
       "27606   32       K        K564  Bushwick Community High School  09-12   \n",
       "27607   32       K        K564  Bushwick Community High School  09-12   \n",
       "27608   32       K        K564  Bushwick Community High School  09-12   \n",
       "27609   32       K        K564  Bushwick Community High School  09-12   \n",
       "27610   32       K        K564  Bushwick Community High School    NaN   \n",
       "\n",
       "      PROGRAM TYPE CORE SUBJECT (MS CORE and 9-12 ONLY)  \\\n",
       "0           GEN ED                                    -   \n",
       "1              CTT                                    -   \n",
       "2           GEN ED                                    -   \n",
       "3              CTT                                    -   \n",
       "4           GEN ED                                    -   \n",
       "...            ...                                  ...   \n",
       "27606       GEN ED                       SOCIAL STUDIES   \n",
       "27607       GEN ED                       SOCIAL STUDIES   \n",
       "27608       GEN ED                       SOCIAL STUDIES   \n",
       "27609          CTT                                 MATH   \n",
       "27610          NaN                                  NaN   \n",
       "\n",
       "      CORE COURSE (MS CORE and 9-12 ONLY) SERVICE CATEGORY(K-9* ONLY)  \\\n",
       "0                                       -                           -   \n",
       "1                                       -                           -   \n",
       "2                                       -                           -   \n",
       "3                                       -                           -   \n",
       "4                                       -                           -   \n",
       "...                                   ...                         ...   \n",
       "27606             US History & Government                           -   \n",
       "27607                           Economics                           -   \n",
       "27608         Participation in Government                           -   \n",
       "27609                  Integrated Algebra                           -   \n",
       "27610                                 NaN                         NaN   \n",
       "\n",
       "       NUMBER OF STUDENTS / SEATS FILLED  NUMBER OF SECTIONS  \\\n",
       "0                                   19.0                 1.0   \n",
       "1                                   21.0                 1.0   \n",
       "2                                   17.0                 1.0   \n",
       "3                                   17.0                 1.0   \n",
       "4                                   15.0                 1.0   \n",
       "...                                  ...                 ...   \n",
       "27606                              256.0                10.0   \n",
       "27607                               65.0                 2.0   \n",
       "27608                               53.0                 2.0   \n",
       "27609                               50.0                 2.0   \n",
       "27610                                NaN                 NaN   \n",
       "\n",
       "       AVERAGE CLASS SIZE  SIZE OF SMALLEST CLASS  SIZE OF LARGEST CLASS  \\\n",
       "0                    19.0                    19.0                   19.0   \n",
       "1                    21.0                    21.0                   21.0   \n",
       "2                    17.0                    17.0                   17.0   \n",
       "3                    17.0                    17.0                   17.0   \n",
       "4                    15.0                    15.0                   15.0   \n",
       "...                   ...                     ...                    ...   \n",
       "27606                25.6                    15.0                   35.0   \n",
       "27607                32.5                    32.0                   33.0   \n",
       "27608                26.5                    25.0                   28.0   \n",
       "27609                25.0                    25.0                   25.0   \n",
       "27610                 NaN                     NaN                    NaN   \n",
       "\n",
       "      DATA SOURCE  SCHOOLWIDE PUPIL-TEACHER RATIO padded_csd     DBN  \n",
       "0             ATS                             NaN         01  01M015  \n",
       "1             ATS                             NaN         01  01M015  \n",
       "2             ATS                             NaN         01  01M015  \n",
       "3             ATS                             NaN         01  01M015  \n",
       "4             ATS                             NaN         01  01M015  \n",
       "...           ...                             ...        ...     ...  \n",
       "27606       STARS                             NaN         32  32K564  \n",
       "27607       STARS                             NaN         32  32K564  \n",
       "27608       STARS                             NaN         32  32K564  \n",
       "27609       STARS                             NaN         32  32K564  \n",
       "27610         NaN                            17.1         32  32K564  \n",
       "\n",
       "[27611 rows x 18 columns]"
      ]
     },
     "execution_count": 162,
     "metadata": {},
     "output_type": "execute_result"
    }
   ],
   "source": [
    "class_size"
   ]
  },
  {
   "cell_type": "markdown",
   "metadata": {},
   "source": [
    "Since we're dealing with high schools, we're only concerned with grades 9 through 12. That means we only want to pick rows where the value in the GRADE column is 09-12"
   ]
  },
  {
   "cell_type": "code",
   "execution_count": 163,
   "metadata": {},
   "outputs": [],
   "source": [
    "class_size = class_size[class_size[\"GRADE \"] == \"09-12\"]"
   ]
  },
  {
   "cell_type": "markdown",
   "metadata": {},
   "source": [
    "next i'll filter class_size so that the PROGRAM TYPE column only contains the value GEN ED."
   ]
  },
  {
   "cell_type": "code",
   "execution_count": 164,
   "metadata": {},
   "outputs": [],
   "source": [
    "class_size = class_size[class_size[\"PROGRAM TYPE\"] == \"GEN ED\"]"
   ]
  },
  {
   "cell_type": "code",
   "execution_count": 165,
   "metadata": {
    "scrolled": true
   },
   "outputs": [
    {
     "data": {
      "text/html": [
       "<div>\n",
       "<style scoped>\n",
       "    .dataframe tbody tr th:only-of-type {\n",
       "        vertical-align: middle;\n",
       "    }\n",
       "\n",
       "    .dataframe tbody tr th {\n",
       "        vertical-align: top;\n",
       "    }\n",
       "\n",
       "    .dataframe thead th {\n",
       "        text-align: right;\n",
       "    }\n",
       "</style>\n",
       "<table border=\"1\" class=\"dataframe\">\n",
       "  <thead>\n",
       "    <tr style=\"text-align: right;\">\n",
       "      <th></th>\n",
       "      <th>CSD</th>\n",
       "      <th>BOROUGH</th>\n",
       "      <th>SCHOOL CODE</th>\n",
       "      <th>SCHOOL NAME</th>\n",
       "      <th>GRADE</th>\n",
       "      <th>PROGRAM TYPE</th>\n",
       "      <th>CORE SUBJECT (MS CORE and 9-12 ONLY)</th>\n",
       "      <th>CORE COURSE (MS CORE and 9-12 ONLY)</th>\n",
       "      <th>SERVICE CATEGORY(K-9* ONLY)</th>\n",
       "      <th>NUMBER OF STUDENTS / SEATS FILLED</th>\n",
       "      <th>NUMBER OF SECTIONS</th>\n",
       "      <th>AVERAGE CLASS SIZE</th>\n",
       "      <th>SIZE OF SMALLEST CLASS</th>\n",
       "      <th>SIZE OF LARGEST CLASS</th>\n",
       "      <th>DATA SOURCE</th>\n",
       "      <th>SCHOOLWIDE PUPIL-TEACHER RATIO</th>\n",
       "      <th>padded_csd</th>\n",
       "      <th>DBN</th>\n",
       "    </tr>\n",
       "  </thead>\n",
       "  <tbody>\n",
       "    <tr>\n",
       "      <th>225</th>\n",
       "      <td>1</td>\n",
       "      <td>M</td>\n",
       "      <td>M292</td>\n",
       "      <td>Henry Street School for International Studies</td>\n",
       "      <td>09-12</td>\n",
       "      <td>GEN ED</td>\n",
       "      <td>ENGLISH</td>\n",
       "      <td>English 9</td>\n",
       "      <td>-</td>\n",
       "      <td>63.0</td>\n",
       "      <td>3.0</td>\n",
       "      <td>21.0</td>\n",
       "      <td>19.0</td>\n",
       "      <td>25.0</td>\n",
       "      <td>STARS</td>\n",
       "      <td>NaN</td>\n",
       "      <td>01</td>\n",
       "      <td>01M292</td>\n",
       "    </tr>\n",
       "    <tr>\n",
       "      <th>226</th>\n",
       "      <td>1</td>\n",
       "      <td>M</td>\n",
       "      <td>M292</td>\n",
       "      <td>Henry Street School for International Studies</td>\n",
       "      <td>09-12</td>\n",
       "      <td>GEN ED</td>\n",
       "      <td>ENGLISH</td>\n",
       "      <td>English 10</td>\n",
       "      <td>-</td>\n",
       "      <td>79.0</td>\n",
       "      <td>3.0</td>\n",
       "      <td>26.3</td>\n",
       "      <td>24.0</td>\n",
       "      <td>31.0</td>\n",
       "      <td>STARS</td>\n",
       "      <td>NaN</td>\n",
       "      <td>01</td>\n",
       "      <td>01M292</td>\n",
       "    </tr>\n",
       "    <tr>\n",
       "      <th>227</th>\n",
       "      <td>1</td>\n",
       "      <td>M</td>\n",
       "      <td>M292</td>\n",
       "      <td>Henry Street School for International Studies</td>\n",
       "      <td>09-12</td>\n",
       "      <td>GEN ED</td>\n",
       "      <td>ENGLISH</td>\n",
       "      <td>English 11</td>\n",
       "      <td>-</td>\n",
       "      <td>38.0</td>\n",
       "      <td>2.0</td>\n",
       "      <td>19.0</td>\n",
       "      <td>16.0</td>\n",
       "      <td>22.0</td>\n",
       "      <td>STARS</td>\n",
       "      <td>NaN</td>\n",
       "      <td>01</td>\n",
       "      <td>01M292</td>\n",
       "    </tr>\n",
       "    <tr>\n",
       "      <th>228</th>\n",
       "      <td>1</td>\n",
       "      <td>M</td>\n",
       "      <td>M292</td>\n",
       "      <td>Henry Street School for International Studies</td>\n",
       "      <td>09-12</td>\n",
       "      <td>GEN ED</td>\n",
       "      <td>ENGLISH</td>\n",
       "      <td>English 12</td>\n",
       "      <td>-</td>\n",
       "      <td>69.0</td>\n",
       "      <td>3.0</td>\n",
       "      <td>23.0</td>\n",
       "      <td>13.0</td>\n",
       "      <td>30.0</td>\n",
       "      <td>STARS</td>\n",
       "      <td>NaN</td>\n",
       "      <td>01</td>\n",
       "      <td>01M292</td>\n",
       "    </tr>\n",
       "    <tr>\n",
       "      <th>229</th>\n",
       "      <td>1</td>\n",
       "      <td>M</td>\n",
       "      <td>M292</td>\n",
       "      <td>Henry Street School for International Studies</td>\n",
       "      <td>09-12</td>\n",
       "      <td>GEN ED</td>\n",
       "      <td>MATH</td>\n",
       "      <td>Integrated Algebra</td>\n",
       "      <td>-</td>\n",
       "      <td>53.0</td>\n",
       "      <td>3.0</td>\n",
       "      <td>17.7</td>\n",
       "      <td>16.0</td>\n",
       "      <td>21.0</td>\n",
       "      <td>STARS</td>\n",
       "      <td>NaN</td>\n",
       "      <td>01</td>\n",
       "      <td>01M292</td>\n",
       "    </tr>\n",
       "    <tr>\n",
       "      <th>...</th>\n",
       "      <td>...</td>\n",
       "      <td>...</td>\n",
       "      <td>...</td>\n",
       "      <td>...</td>\n",
       "      <td>...</td>\n",
       "      <td>...</td>\n",
       "      <td>...</td>\n",
       "      <td>...</td>\n",
       "      <td>...</td>\n",
       "      <td>...</td>\n",
       "      <td>...</td>\n",
       "      <td>...</td>\n",
       "      <td>...</td>\n",
       "      <td>...</td>\n",
       "      <td>...</td>\n",
       "      <td>...</td>\n",
       "      <td>...</td>\n",
       "      <td>...</td>\n",
       "    </tr>\n",
       "    <tr>\n",
       "      <th>27604</th>\n",
       "      <td>32</td>\n",
       "      <td>K</td>\n",
       "      <td>K564</td>\n",
       "      <td>Bushwick Community High School</td>\n",
       "      <td>09-12</td>\n",
       "      <td>GEN ED</td>\n",
       "      <td>SCIENCE</td>\n",
       "      <td>Physics</td>\n",
       "      <td>-</td>\n",
       "      <td>49.0</td>\n",
       "      <td>2.0</td>\n",
       "      <td>24.5</td>\n",
       "      <td>22.0</td>\n",
       "      <td>27.0</td>\n",
       "      <td>STARS</td>\n",
       "      <td>NaN</td>\n",
       "      <td>32</td>\n",
       "      <td>32K564</td>\n",
       "    </tr>\n",
       "    <tr>\n",
       "      <th>27605</th>\n",
       "      <td>32</td>\n",
       "      <td>K</td>\n",
       "      <td>K564</td>\n",
       "      <td>Bushwick Community High School</td>\n",
       "      <td>09-12</td>\n",
       "      <td>GEN ED</td>\n",
       "      <td>SOCIAL STUDIES</td>\n",
       "      <td>Global History &amp; Geography</td>\n",
       "      <td>-</td>\n",
       "      <td>237.0</td>\n",
       "      <td>10.0</td>\n",
       "      <td>23.7</td>\n",
       "      <td>15.0</td>\n",
       "      <td>31.0</td>\n",
       "      <td>STARS</td>\n",
       "      <td>NaN</td>\n",
       "      <td>32</td>\n",
       "      <td>32K564</td>\n",
       "    </tr>\n",
       "    <tr>\n",
       "      <th>27606</th>\n",
       "      <td>32</td>\n",
       "      <td>K</td>\n",
       "      <td>K564</td>\n",
       "      <td>Bushwick Community High School</td>\n",
       "      <td>09-12</td>\n",
       "      <td>GEN ED</td>\n",
       "      <td>SOCIAL STUDIES</td>\n",
       "      <td>US History &amp; Government</td>\n",
       "      <td>-</td>\n",
       "      <td>256.0</td>\n",
       "      <td>10.0</td>\n",
       "      <td>25.6</td>\n",
       "      <td>15.0</td>\n",
       "      <td>35.0</td>\n",
       "      <td>STARS</td>\n",
       "      <td>NaN</td>\n",
       "      <td>32</td>\n",
       "      <td>32K564</td>\n",
       "    </tr>\n",
       "    <tr>\n",
       "      <th>27607</th>\n",
       "      <td>32</td>\n",
       "      <td>K</td>\n",
       "      <td>K564</td>\n",
       "      <td>Bushwick Community High School</td>\n",
       "      <td>09-12</td>\n",
       "      <td>GEN ED</td>\n",
       "      <td>SOCIAL STUDIES</td>\n",
       "      <td>Economics</td>\n",
       "      <td>-</td>\n",
       "      <td>65.0</td>\n",
       "      <td>2.0</td>\n",
       "      <td>32.5</td>\n",
       "      <td>32.0</td>\n",
       "      <td>33.0</td>\n",
       "      <td>STARS</td>\n",
       "      <td>NaN</td>\n",
       "      <td>32</td>\n",
       "      <td>32K564</td>\n",
       "    </tr>\n",
       "    <tr>\n",
       "      <th>27608</th>\n",
       "      <td>32</td>\n",
       "      <td>K</td>\n",
       "      <td>K564</td>\n",
       "      <td>Bushwick Community High School</td>\n",
       "      <td>09-12</td>\n",
       "      <td>GEN ED</td>\n",
       "      <td>SOCIAL STUDIES</td>\n",
       "      <td>Participation in Government</td>\n",
       "      <td>-</td>\n",
       "      <td>53.0</td>\n",
       "      <td>2.0</td>\n",
       "      <td>26.5</td>\n",
       "      <td>25.0</td>\n",
       "      <td>28.0</td>\n",
       "      <td>STARS</td>\n",
       "      <td>NaN</td>\n",
       "      <td>32</td>\n",
       "      <td>32K564</td>\n",
       "    </tr>\n",
       "  </tbody>\n",
       "</table>\n",
       "<p>6513 rows × 18 columns</p>\n",
       "</div>"
      ],
      "text/plain": [
       "       CSD BOROUGH SCHOOL CODE                                    SCHOOL NAME  \\\n",
       "225      1       M        M292  Henry Street School for International Studies   \n",
       "226      1       M        M292  Henry Street School for International Studies   \n",
       "227      1       M        M292  Henry Street School for International Studies   \n",
       "228      1       M        M292  Henry Street School for International Studies   \n",
       "229      1       M        M292  Henry Street School for International Studies   \n",
       "...    ...     ...         ...                                            ...   \n",
       "27604   32       K        K564                 Bushwick Community High School   \n",
       "27605   32       K        K564                 Bushwick Community High School   \n",
       "27606   32       K        K564                 Bushwick Community High School   \n",
       "27607   32       K        K564                 Bushwick Community High School   \n",
       "27608   32       K        K564                 Bushwick Community High School   \n",
       "\n",
       "      GRADE  PROGRAM TYPE CORE SUBJECT (MS CORE and 9-12 ONLY)  \\\n",
       "225    09-12       GEN ED                              ENGLISH   \n",
       "226    09-12       GEN ED                              ENGLISH   \n",
       "227    09-12       GEN ED                              ENGLISH   \n",
       "228    09-12       GEN ED                              ENGLISH   \n",
       "229    09-12       GEN ED                                 MATH   \n",
       "...      ...          ...                                  ...   \n",
       "27604  09-12       GEN ED                              SCIENCE   \n",
       "27605  09-12       GEN ED                       SOCIAL STUDIES   \n",
       "27606  09-12       GEN ED                       SOCIAL STUDIES   \n",
       "27607  09-12       GEN ED                       SOCIAL STUDIES   \n",
       "27608  09-12       GEN ED                       SOCIAL STUDIES   \n",
       "\n",
       "      CORE COURSE (MS CORE and 9-12 ONLY) SERVICE CATEGORY(K-9* ONLY)  \\\n",
       "225                             English 9                           -   \n",
       "226                            English 10                           -   \n",
       "227                            English 11                           -   \n",
       "228                            English 12                           -   \n",
       "229                    Integrated Algebra                           -   \n",
       "...                                   ...                         ...   \n",
       "27604                             Physics                           -   \n",
       "27605          Global History & Geography                           -   \n",
       "27606             US History & Government                           -   \n",
       "27607                           Economics                           -   \n",
       "27608         Participation in Government                           -   \n",
       "\n",
       "       NUMBER OF STUDENTS / SEATS FILLED  NUMBER OF SECTIONS  \\\n",
       "225                                 63.0                 3.0   \n",
       "226                                 79.0                 3.0   \n",
       "227                                 38.0                 2.0   \n",
       "228                                 69.0                 3.0   \n",
       "229                                 53.0                 3.0   \n",
       "...                                  ...                 ...   \n",
       "27604                               49.0                 2.0   \n",
       "27605                              237.0                10.0   \n",
       "27606                              256.0                10.0   \n",
       "27607                               65.0                 2.0   \n",
       "27608                               53.0                 2.0   \n",
       "\n",
       "       AVERAGE CLASS SIZE  SIZE OF SMALLEST CLASS  SIZE OF LARGEST CLASS  \\\n",
       "225                  21.0                    19.0                   25.0   \n",
       "226                  26.3                    24.0                   31.0   \n",
       "227                  19.0                    16.0                   22.0   \n",
       "228                  23.0                    13.0                   30.0   \n",
       "229                  17.7                    16.0                   21.0   \n",
       "...                   ...                     ...                    ...   \n",
       "27604                24.5                    22.0                   27.0   \n",
       "27605                23.7                    15.0                   31.0   \n",
       "27606                25.6                    15.0                   35.0   \n",
       "27607                32.5                    32.0                   33.0   \n",
       "27608                26.5                    25.0                   28.0   \n",
       "\n",
       "      DATA SOURCE  SCHOOLWIDE PUPIL-TEACHER RATIO padded_csd     DBN  \n",
       "225         STARS                             NaN         01  01M292  \n",
       "226         STARS                             NaN         01  01M292  \n",
       "227         STARS                             NaN         01  01M292  \n",
       "228         STARS                             NaN         01  01M292  \n",
       "229         STARS                             NaN         01  01M292  \n",
       "...           ...                             ...        ...     ...  \n",
       "27604       STARS                             NaN         32  32K564  \n",
       "27605       STARS                             NaN         32  32K564  \n",
       "27606       STARS                             NaN         32  32K564  \n",
       "27607       STARS                             NaN         32  32K564  \n",
       "27608       STARS                             NaN         32  32K564  \n",
       "\n",
       "[6513 rows x 18 columns]"
      ]
     },
     "execution_count": 165,
     "metadata": {},
     "output_type": "execute_result"
    }
   ],
   "source": [
    "class_size"
   ]
  },
  {
   "cell_type": "markdown",
   "metadata": {},
   "source": [
    "**The data reveals numerous observations for each District Borough (DBN). To obtain average figures for each numeric variable, I will group the dataset by DBN.**"
   ]
  },
  {
   "cell_type": "code",
   "execution_count": 166,
   "metadata": {},
   "outputs": [],
   "source": [
    "class_size = class_size.groupby(\"DBN\").agg(np.mean)\n",
    "class_size.reset_index(inplace=True)"
   ]
  },
  {
   "cell_type": "code",
   "execution_count": 167,
   "metadata": {
    "scrolled": true
   },
   "outputs": [
    {
     "data": {
      "text/html": [
       "<div>\n",
       "<style scoped>\n",
       "    .dataframe tbody tr th:only-of-type {\n",
       "        vertical-align: middle;\n",
       "    }\n",
       "\n",
       "    .dataframe tbody tr th {\n",
       "        vertical-align: top;\n",
       "    }\n",
       "\n",
       "    .dataframe thead th {\n",
       "        text-align: right;\n",
       "    }\n",
       "</style>\n",
       "<table border=\"1\" class=\"dataframe\">\n",
       "  <thead>\n",
       "    <tr style=\"text-align: right;\">\n",
       "      <th></th>\n",
       "      <th>DBN</th>\n",
       "      <th>CSD</th>\n",
       "      <th>NUMBER OF STUDENTS / SEATS FILLED</th>\n",
       "      <th>NUMBER OF SECTIONS</th>\n",
       "      <th>AVERAGE CLASS SIZE</th>\n",
       "      <th>SIZE OF SMALLEST CLASS</th>\n",
       "      <th>SIZE OF LARGEST CLASS</th>\n",
       "      <th>SCHOOLWIDE PUPIL-TEACHER RATIO</th>\n",
       "    </tr>\n",
       "  </thead>\n",
       "  <tbody>\n",
       "    <tr>\n",
       "      <th>0</th>\n",
       "      <td>01M292</td>\n",
       "      <td>1</td>\n",
       "      <td>88.000000</td>\n",
       "      <td>4.000000</td>\n",
       "      <td>22.564286</td>\n",
       "      <td>18.500000</td>\n",
       "      <td>26.571429</td>\n",
       "      <td>NaN</td>\n",
       "    </tr>\n",
       "    <tr>\n",
       "      <th>1</th>\n",
       "      <td>01M332</td>\n",
       "      <td>1</td>\n",
       "      <td>46.000000</td>\n",
       "      <td>2.000000</td>\n",
       "      <td>22.000000</td>\n",
       "      <td>21.000000</td>\n",
       "      <td>23.500000</td>\n",
       "      <td>NaN</td>\n",
       "    </tr>\n",
       "    <tr>\n",
       "      <th>2</th>\n",
       "      <td>01M378</td>\n",
       "      <td>1</td>\n",
       "      <td>33.000000</td>\n",
       "      <td>1.000000</td>\n",
       "      <td>33.000000</td>\n",
       "      <td>33.000000</td>\n",
       "      <td>33.000000</td>\n",
       "      <td>NaN</td>\n",
       "    </tr>\n",
       "    <tr>\n",
       "      <th>3</th>\n",
       "      <td>01M448</td>\n",
       "      <td>1</td>\n",
       "      <td>105.687500</td>\n",
       "      <td>4.750000</td>\n",
       "      <td>22.231250</td>\n",
       "      <td>18.250000</td>\n",
       "      <td>27.062500</td>\n",
       "      <td>NaN</td>\n",
       "    </tr>\n",
       "    <tr>\n",
       "      <th>4</th>\n",
       "      <td>01M450</td>\n",
       "      <td>1</td>\n",
       "      <td>57.600000</td>\n",
       "      <td>2.733333</td>\n",
       "      <td>21.200000</td>\n",
       "      <td>19.400000</td>\n",
       "      <td>22.866667</td>\n",
       "      <td>NaN</td>\n",
       "    </tr>\n",
       "    <tr>\n",
       "      <th>...</th>\n",
       "      <td>...</td>\n",
       "      <td>...</td>\n",
       "      <td>...</td>\n",
       "      <td>...</td>\n",
       "      <td>...</td>\n",
       "      <td>...</td>\n",
       "      <td>...</td>\n",
       "      <td>...</td>\n",
       "    </tr>\n",
       "    <tr>\n",
       "      <th>578</th>\n",
       "      <td>32K549</td>\n",
       "      <td>32</td>\n",
       "      <td>71.066667</td>\n",
       "      <td>3.266667</td>\n",
       "      <td>22.760000</td>\n",
       "      <td>19.866667</td>\n",
       "      <td>25.866667</td>\n",
       "      <td>NaN</td>\n",
       "    </tr>\n",
       "    <tr>\n",
       "      <th>579</th>\n",
       "      <td>32K552</td>\n",
       "      <td>32</td>\n",
       "      <td>102.375000</td>\n",
       "      <td>4.312500</td>\n",
       "      <td>23.900000</td>\n",
       "      <td>19.937500</td>\n",
       "      <td>28.000000</td>\n",
       "      <td>NaN</td>\n",
       "    </tr>\n",
       "    <tr>\n",
       "      <th>580</th>\n",
       "      <td>32K554</td>\n",
       "      <td>32</td>\n",
       "      <td>66.937500</td>\n",
       "      <td>3.812500</td>\n",
       "      <td>17.793750</td>\n",
       "      <td>14.750000</td>\n",
       "      <td>21.625000</td>\n",
       "      <td>NaN</td>\n",
       "    </tr>\n",
       "    <tr>\n",
       "      <th>581</th>\n",
       "      <td>32K556</td>\n",
       "      <td>32</td>\n",
       "      <td>132.333333</td>\n",
       "      <td>5.400000</td>\n",
       "      <td>25.060000</td>\n",
       "      <td>18.333333</td>\n",
       "      <td>30.000000</td>\n",
       "      <td>NaN</td>\n",
       "    </tr>\n",
       "    <tr>\n",
       "      <th>582</th>\n",
       "      <td>32K564</td>\n",
       "      <td>32</td>\n",
       "      <td>136.142857</td>\n",
       "      <td>5.428571</td>\n",
       "      <td>24.964286</td>\n",
       "      <td>20.071429</td>\n",
       "      <td>28.571429</td>\n",
       "      <td>NaN</td>\n",
       "    </tr>\n",
       "  </tbody>\n",
       "</table>\n",
       "<p>583 rows × 8 columns</p>\n",
       "</div>"
      ],
      "text/plain": [
       "        DBN  CSD  NUMBER OF STUDENTS / SEATS FILLED  NUMBER OF SECTIONS  \\\n",
       "0    01M292    1                          88.000000            4.000000   \n",
       "1    01M332    1                          46.000000            2.000000   \n",
       "2    01M378    1                          33.000000            1.000000   \n",
       "3    01M448    1                         105.687500            4.750000   \n",
       "4    01M450    1                          57.600000            2.733333   \n",
       "..      ...  ...                                ...                 ...   \n",
       "578  32K549   32                          71.066667            3.266667   \n",
       "579  32K552   32                         102.375000            4.312500   \n",
       "580  32K554   32                          66.937500            3.812500   \n",
       "581  32K556   32                         132.333333            5.400000   \n",
       "582  32K564   32                         136.142857            5.428571   \n",
       "\n",
       "     AVERAGE CLASS SIZE  SIZE OF SMALLEST CLASS  SIZE OF LARGEST CLASS  \\\n",
       "0             22.564286               18.500000              26.571429   \n",
       "1             22.000000               21.000000              23.500000   \n",
       "2             33.000000               33.000000              33.000000   \n",
       "3             22.231250               18.250000              27.062500   \n",
       "4             21.200000               19.400000              22.866667   \n",
       "..                  ...                     ...                    ...   \n",
       "578           22.760000               19.866667              25.866667   \n",
       "579           23.900000               19.937500              28.000000   \n",
       "580           17.793750               14.750000              21.625000   \n",
       "581           25.060000               18.333333              30.000000   \n",
       "582           24.964286               20.071429              28.571429   \n",
       "\n",
       "     SCHOOLWIDE PUPIL-TEACHER RATIO  \n",
       "0                               NaN  \n",
       "1                               NaN  \n",
       "2                               NaN  \n",
       "3                               NaN  \n",
       "4                               NaN  \n",
       "..                              ...  \n",
       "578                             NaN  \n",
       "579                             NaN  \n",
       "580                             NaN  \n",
       "581                             NaN  \n",
       "582                             NaN  \n",
       "\n",
       "[583 rows x 8 columns]"
      ]
     },
     "execution_count": 167,
     "metadata": {},
     "output_type": "execute_result"
    }
   ],
   "source": [
    "class_size"
   ]
  },
  {
   "cell_type": "code",
   "execution_count": 168,
   "metadata": {},
   "outputs": [
    {
     "data": {
      "text/plain": [
       "20112012    1509\n",
       "20102011    1498\n",
       "20092010    1475\n",
       "20082009    1441\n",
       "20072008    1410\n",
       "20062007    1386\n",
       "20052006    1356\n",
       "Name: schoolyear, dtype: int64"
      ]
     },
     "execution_count": 168,
     "metadata": {},
     "output_type": "execute_result"
    }
   ],
   "source": [
    "data[\"demographics\"][\"schoolyear\"].value_counts()"
   ]
  },
  {
   "cell_type": "markdown",
   "metadata": {},
   "source": [
    "**Filter the \"demographics\" data, retaining only the rows where the \"schoolyear\" is 20112012, representing the latest year.**"
   ]
  },
  {
   "cell_type": "code",
   "execution_count": 169,
   "metadata": {},
   "outputs": [],
   "source": [
    "data[\"demographics\"] = data[\"demographics\"][data[\"demographics\"][\"schoolyear\"] == 20112012]"
   ]
  },
  {
   "cell_type": "code",
   "execution_count": 170,
   "metadata": {},
   "outputs": [
    {
     "data": {
      "text/plain": [
       "2006 Aug    4131\n",
       "2006        4130\n",
       "2005        3963\n",
       "2004        3708\n",
       "2003        3432\n",
       "2002        3095\n",
       "2001        2637\n",
       "Name: Cohort, dtype: int64"
      ]
     },
     "execution_count": 170,
     "metadata": {},
     "output_type": "execute_result"
    }
   ],
   "source": [
    "data[\"graduation\"][\"Cohort\"].value_counts()"
   ]
  },
  {
   "cell_type": "markdown",
   "metadata": {},
   "source": [
    "**A Cohort appears to refer to the year the data represents. In this case, we want to pick data from the most recent Cohort available, which is 2006. We also want data from the full cohort, so we'll only pick rows where Demographic is Total Cohort.**"
   ]
  },
  {
   "cell_type": "code",
   "execution_count": 171,
   "metadata": {},
   "outputs": [
    {
     "data": {
      "text/plain": [
       "array(['Total Cohort', 'Male', 'English Language Learners',\n",
       "       'English Proficient Students', 'Special Education Students',\n",
       "       'General Education Students', 'Asian', 'Black', 'Hispanic',\n",
       "       'White', 'Female'], dtype=object)"
      ]
     },
     "execution_count": 171,
     "metadata": {},
     "output_type": "execute_result"
    }
   ],
   "source": [
    "data[\"graduation\"][\"Demographic\"].unique()"
   ]
  },
  {
   "cell_type": "markdown",
   "metadata": {},
   "source": [
    "**To obtain data from the full cohort, we'll select rows where the Demographic is Total Cohort**"
   ]
  },
  {
   "cell_type": "code",
   "execution_count": 172,
   "metadata": {},
   "outputs": [],
   "source": [
    "data[\"graduation\"] = data[\"graduation\"][data[\"graduation\"][\"Cohort\"] == \"2006\"]\n",
    "data[\"graduation\"] = data[\"graduation\"][data[\"graduation\"][\"Demographic\"] == \"Total Cohort\"]"
   ]
  },
  {
   "cell_type": "markdown",
   "metadata": {},
   "source": [
    "# Convert AP scores to numeric"
   ]
  },
  {
   "cell_type": "markdown",
   "metadata": {},
   "source": [
    "**We are preparing to combine the datasets and the final step is to convert the Advanced Placement (AP) test scores from strings to numeric values. AP exams are taken by high school students before applying to college and are scored on a scale of 1 to 5, with a score of 3 or higher considered passing. Students who score well may receive college credit.**\n",
    "\n",
    "**AP exams are more common in academically challenging schools, while schools with limited funding or academic rigor tend to have fewer AP exams. It will be interesting to explore the correlation between AP exam scores and SAT scores across different high schools. To do this, we need to convert the AP exam scores in the ap_2010 dataset into numeric values**"
   ]
  },
  {
   "cell_type": "code",
   "execution_count": 173,
   "metadata": {},
   "outputs": [],
   "source": [
    "cols = ['AP Test Takers ', 'Total Exams Taken', 'Number of Exams with scores 3 4 or 5']\n",
    "\n",
    "for col in cols:\n",
    "    data[\"ap_2010\"][col] = pd.to_numeric(data[\"ap_2010\"][col], errors=\"coerce\")"
   ]
  },
  {
   "cell_type": "markdown",
   "metadata": {},
   "source": [
    "# Combine the datasets"
   ]
  },
  {
   "cell_type": "markdown",
   "metadata": {},
   "source": [
    "**Since this project is concerned with determining demographic factors that correlate with SAT score, we'll want to preserve as many rows as possible from sat_results while minimizing null values. Also most of our analysis would be impossible if a significant number of rows was missing from demographics dataset.**\n",
    "\n",
    "**we still have to merge class_size, demographics, survey, and hs_directory using inner join type becauses these files contain information that's more valuable to our analysis and also have fewer missing DBN values**"
   ]
  },
  {
   "cell_type": "code",
   "execution_count": 174,
   "metadata": {},
   "outputs": [],
   "source": [
    "combined = data[\"sat_results\"]\n",
    "\n",
    "combined = combined.merge(data[\"ap_2010\"], on=\"DBN\", how=\"left\")\n",
    "combined = combined.merge(data[\"graduation\"], on=\"DBN\", how=\"left\")\n",
    "\n",
    "to_merge = [\"class_size\", \"demographics\", \"survey\", \"hs_directory\"]\n",
    "\n",
    "for m in to_merge:\n",
    "    combined = combined.merge(data[m], on=\"DBN\", how=\"inner\")\n",
    "\n"
   ]
  },
  {
   "cell_type": "code",
   "execution_count": 175,
   "metadata": {
    "scrolled": true
   },
   "outputs": [
    {
     "data": {
      "text/html": [
       "<div>\n",
       "<style scoped>\n",
       "    .dataframe tbody tr th:only-of-type {\n",
       "        vertical-align: middle;\n",
       "    }\n",
       "\n",
       "    .dataframe tbody tr th {\n",
       "        vertical-align: top;\n",
       "    }\n",
       "\n",
       "    .dataframe thead th {\n",
       "        text-align: right;\n",
       "    }\n",
       "</style>\n",
       "<table border=\"1\" class=\"dataframe\">\n",
       "  <thead>\n",
       "    <tr style=\"text-align: right;\">\n",
       "      <th></th>\n",
       "      <th>DBN</th>\n",
       "      <th>SCHOOL NAME_x</th>\n",
       "      <th>Num of SAT Test Takers</th>\n",
       "      <th>SAT Critical Reading Avg. Score</th>\n",
       "      <th>SAT Math Avg. Score</th>\n",
       "      <th>SAT Writing Avg. Score</th>\n",
       "      <th>sat_score</th>\n",
       "      <th>SchoolName</th>\n",
       "      <th>AP Test Takers</th>\n",
       "      <th>Total Exams Taken</th>\n",
       "      <th>...</th>\n",
       "      <th>priority04</th>\n",
       "      <th>priority05</th>\n",
       "      <th>priority06</th>\n",
       "      <th>priority07</th>\n",
       "      <th>priority08</th>\n",
       "      <th>priority09</th>\n",
       "      <th>priority10</th>\n",
       "      <th>Location 1</th>\n",
       "      <th>lat</th>\n",
       "      <th>lon</th>\n",
       "    </tr>\n",
       "  </thead>\n",
       "  <tbody>\n",
       "    <tr>\n",
       "      <th>0</th>\n",
       "      <td>False</td>\n",
       "      <td>False</td>\n",
       "      <td>False</td>\n",
       "      <td>False</td>\n",
       "      <td>False</td>\n",
       "      <td>False</td>\n",
       "      <td>False</td>\n",
       "      <td>True</td>\n",
       "      <td>True</td>\n",
       "      <td>True</td>\n",
       "      <td>...</td>\n",
       "      <td>False</td>\n",
       "      <td>False</td>\n",
       "      <td>True</td>\n",
       "      <td>True</td>\n",
       "      <td>True</td>\n",
       "      <td>True</td>\n",
       "      <td>True</td>\n",
       "      <td>False</td>\n",
       "      <td>False</td>\n",
       "      <td>False</td>\n",
       "    </tr>\n",
       "    <tr>\n",
       "      <th>1</th>\n",
       "      <td>False</td>\n",
       "      <td>False</td>\n",
       "      <td>False</td>\n",
       "      <td>False</td>\n",
       "      <td>False</td>\n",
       "      <td>False</td>\n",
       "      <td>False</td>\n",
       "      <td>True</td>\n",
       "      <td>True</td>\n",
       "      <td>True</td>\n",
       "      <td>...</td>\n",
       "      <td>False</td>\n",
       "      <td>False</td>\n",
       "      <td>True</td>\n",
       "      <td>True</td>\n",
       "      <td>True</td>\n",
       "      <td>True</td>\n",
       "      <td>True</td>\n",
       "      <td>False</td>\n",
       "      <td>False</td>\n",
       "      <td>False</td>\n",
       "    </tr>\n",
       "    <tr>\n",
       "      <th>2</th>\n",
       "      <td>False</td>\n",
       "      <td>False</td>\n",
       "      <td>False</td>\n",
       "      <td>False</td>\n",
       "      <td>False</td>\n",
       "      <td>False</td>\n",
       "      <td>False</td>\n",
       "      <td>True</td>\n",
       "      <td>True</td>\n",
       "      <td>True</td>\n",
       "      <td>...</td>\n",
       "      <td>False</td>\n",
       "      <td>False</td>\n",
       "      <td>True</td>\n",
       "      <td>True</td>\n",
       "      <td>True</td>\n",
       "      <td>True</td>\n",
       "      <td>True</td>\n",
       "      <td>False</td>\n",
       "      <td>False</td>\n",
       "      <td>False</td>\n",
       "    </tr>\n",
       "    <tr>\n",
       "      <th>3</th>\n",
       "      <td>False</td>\n",
       "      <td>False</td>\n",
       "      <td>False</td>\n",
       "      <td>False</td>\n",
       "      <td>False</td>\n",
       "      <td>False</td>\n",
       "      <td>False</td>\n",
       "      <td>True</td>\n",
       "      <td>True</td>\n",
       "      <td>True</td>\n",
       "      <td>...</td>\n",
       "      <td>False</td>\n",
       "      <td>False</td>\n",
       "      <td>True</td>\n",
       "      <td>True</td>\n",
       "      <td>True</td>\n",
       "      <td>True</td>\n",
       "      <td>True</td>\n",
       "      <td>False</td>\n",
       "      <td>False</td>\n",
       "      <td>False</td>\n",
       "    </tr>\n",
       "    <tr>\n",
       "      <th>4</th>\n",
       "      <td>False</td>\n",
       "      <td>False</td>\n",
       "      <td>False</td>\n",
       "      <td>False</td>\n",
       "      <td>False</td>\n",
       "      <td>False</td>\n",
       "      <td>False</td>\n",
       "      <td>True</td>\n",
       "      <td>True</td>\n",
       "      <td>True</td>\n",
       "      <td>...</td>\n",
       "      <td>False</td>\n",
       "      <td>False</td>\n",
       "      <td>True</td>\n",
       "      <td>True</td>\n",
       "      <td>True</td>\n",
       "      <td>True</td>\n",
       "      <td>True</td>\n",
       "      <td>False</td>\n",
       "      <td>False</td>\n",
       "      <td>False</td>\n",
       "    </tr>\n",
       "    <tr>\n",
       "      <th>...</th>\n",
       "      <td>...</td>\n",
       "      <td>...</td>\n",
       "      <td>...</td>\n",
       "      <td>...</td>\n",
       "      <td>...</td>\n",
       "      <td>...</td>\n",
       "      <td>...</td>\n",
       "      <td>...</td>\n",
       "      <td>...</td>\n",
       "      <td>...</td>\n",
       "      <td>...</td>\n",
       "      <td>...</td>\n",
       "      <td>...</td>\n",
       "      <td>...</td>\n",
       "      <td>...</td>\n",
       "      <td>...</td>\n",
       "      <td>...</td>\n",
       "      <td>...</td>\n",
       "      <td>...</td>\n",
       "      <td>...</td>\n",
       "      <td>...</td>\n",
       "    </tr>\n",
       "    <tr>\n",
       "      <th>10167</th>\n",
       "      <td>False</td>\n",
       "      <td>False</td>\n",
       "      <td>False</td>\n",
       "      <td>False</td>\n",
       "      <td>False</td>\n",
       "      <td>False</td>\n",
       "      <td>False</td>\n",
       "      <td>False</td>\n",
       "      <td>False</td>\n",
       "      <td>False</td>\n",
       "      <td>...</td>\n",
       "      <td>False</td>\n",
       "      <td>False</td>\n",
       "      <td>False</td>\n",
       "      <td>True</td>\n",
       "      <td>True</td>\n",
       "      <td>True</td>\n",
       "      <td>True</td>\n",
       "      <td>False</td>\n",
       "      <td>False</td>\n",
       "      <td>False</td>\n",
       "    </tr>\n",
       "    <tr>\n",
       "      <th>10168</th>\n",
       "      <td>False</td>\n",
       "      <td>False</td>\n",
       "      <td>False</td>\n",
       "      <td>False</td>\n",
       "      <td>False</td>\n",
       "      <td>False</td>\n",
       "      <td>False</td>\n",
       "      <td>False</td>\n",
       "      <td>False</td>\n",
       "      <td>False</td>\n",
       "      <td>...</td>\n",
       "      <td>False</td>\n",
       "      <td>False</td>\n",
       "      <td>False</td>\n",
       "      <td>True</td>\n",
       "      <td>True</td>\n",
       "      <td>True</td>\n",
       "      <td>True</td>\n",
       "      <td>False</td>\n",
       "      <td>False</td>\n",
       "      <td>False</td>\n",
       "    </tr>\n",
       "    <tr>\n",
       "      <th>10169</th>\n",
       "      <td>False</td>\n",
       "      <td>False</td>\n",
       "      <td>False</td>\n",
       "      <td>False</td>\n",
       "      <td>False</td>\n",
       "      <td>False</td>\n",
       "      <td>False</td>\n",
       "      <td>False</td>\n",
       "      <td>False</td>\n",
       "      <td>False</td>\n",
       "      <td>...</td>\n",
       "      <td>False</td>\n",
       "      <td>False</td>\n",
       "      <td>False</td>\n",
       "      <td>True</td>\n",
       "      <td>True</td>\n",
       "      <td>True</td>\n",
       "      <td>True</td>\n",
       "      <td>False</td>\n",
       "      <td>False</td>\n",
       "      <td>False</td>\n",
       "    </tr>\n",
       "    <tr>\n",
       "      <th>10170</th>\n",
       "      <td>False</td>\n",
       "      <td>False</td>\n",
       "      <td>False</td>\n",
       "      <td>False</td>\n",
       "      <td>False</td>\n",
       "      <td>False</td>\n",
       "      <td>False</td>\n",
       "      <td>False</td>\n",
       "      <td>False</td>\n",
       "      <td>False</td>\n",
       "      <td>...</td>\n",
       "      <td>False</td>\n",
       "      <td>False</td>\n",
       "      <td>False</td>\n",
       "      <td>True</td>\n",
       "      <td>True</td>\n",
       "      <td>True</td>\n",
       "      <td>True</td>\n",
       "      <td>False</td>\n",
       "      <td>False</td>\n",
       "      <td>False</td>\n",
       "    </tr>\n",
       "    <tr>\n",
       "      <th>10171</th>\n",
       "      <td>False</td>\n",
       "      <td>False</td>\n",
       "      <td>False</td>\n",
       "      <td>False</td>\n",
       "      <td>False</td>\n",
       "      <td>False</td>\n",
       "      <td>False</td>\n",
       "      <td>False</td>\n",
       "      <td>False</td>\n",
       "      <td>False</td>\n",
       "      <td>...</td>\n",
       "      <td>False</td>\n",
       "      <td>False</td>\n",
       "      <td>False</td>\n",
       "      <td>True</td>\n",
       "      <td>True</td>\n",
       "      <td>True</td>\n",
       "      <td>True</td>\n",
       "      <td>False</td>\n",
       "      <td>False</td>\n",
       "      <td>False</td>\n",
       "    </tr>\n",
       "  </tbody>\n",
       "</table>\n",
       "<p>10172 rows × 169 columns</p>\n",
       "</div>"
      ],
      "text/plain": [
       "         DBN  SCHOOL NAME_x  Num of SAT Test Takers  \\\n",
       "0      False          False                   False   \n",
       "1      False          False                   False   \n",
       "2      False          False                   False   \n",
       "3      False          False                   False   \n",
       "4      False          False                   False   \n",
       "...      ...            ...                     ...   \n",
       "10167  False          False                   False   \n",
       "10168  False          False                   False   \n",
       "10169  False          False                   False   \n",
       "10170  False          False                   False   \n",
       "10171  False          False                   False   \n",
       "\n",
       "       SAT Critical Reading Avg. Score  SAT Math Avg. Score  \\\n",
       "0                                False                False   \n",
       "1                                False                False   \n",
       "2                                False                False   \n",
       "3                                False                False   \n",
       "4                                False                False   \n",
       "...                                ...                  ...   \n",
       "10167                            False                False   \n",
       "10168                            False                False   \n",
       "10169                            False                False   \n",
       "10170                            False                False   \n",
       "10171                            False                False   \n",
       "\n",
       "       SAT Writing Avg. Score  sat_score  SchoolName  AP Test Takers   \\\n",
       "0                       False      False        True             True   \n",
       "1                       False      False        True             True   \n",
       "2                       False      False        True             True   \n",
       "3                       False      False        True             True   \n",
       "4                       False      False        True             True   \n",
       "...                       ...        ...         ...              ...   \n",
       "10167                   False      False       False            False   \n",
       "10168                   False      False       False            False   \n",
       "10169                   False      False       False            False   \n",
       "10170                   False      False       False            False   \n",
       "10171                   False      False       False            False   \n",
       "\n",
       "       Total Exams Taken  ...  priority04  priority05  priority06  priority07  \\\n",
       "0                   True  ...       False       False        True        True   \n",
       "1                   True  ...       False       False        True        True   \n",
       "2                   True  ...       False       False        True        True   \n",
       "3                   True  ...       False       False        True        True   \n",
       "4                   True  ...       False       False        True        True   \n",
       "...                  ...  ...         ...         ...         ...         ...   \n",
       "10167              False  ...       False       False       False        True   \n",
       "10168              False  ...       False       False       False        True   \n",
       "10169              False  ...       False       False       False        True   \n",
       "10170              False  ...       False       False       False        True   \n",
       "10171              False  ...       False       False       False        True   \n",
       "\n",
       "       priority08  priority09  priority10  Location 1    lat    lon  \n",
       "0            True        True        True       False  False  False  \n",
       "1            True        True        True       False  False  False  \n",
       "2            True        True        True       False  False  False  \n",
       "3            True        True        True       False  False  False  \n",
       "4            True        True        True       False  False  False  \n",
       "...           ...         ...         ...         ...    ...    ...  \n",
       "10167        True        True        True       False  False  False  \n",
       "10168        True        True        True       False  False  False  \n",
       "10169        True        True        True       False  False  False  \n",
       "10170        True        True        True       False  False  False  \n",
       "10171        True        True        True       False  False  False  \n",
       "\n",
       "[10172 rows x 169 columns]"
      ]
     },
     "execution_count": 175,
     "metadata": {},
     "output_type": "execute_result"
    }
   ],
   "source": [
    "combined.isnull()"
   ]
  },
  {
   "cell_type": "markdown",
   "metadata": {},
   "source": [
    "**The merging of datasets produced numerous null values, including some null columns. To address this, I will replace the null values with the mean value of the respective column. For columns with missing values, it is recommended to substitute them with 0.**"
   ]
  },
  {
   "cell_type": "code",
   "execution_count": 176,
   "metadata": {},
   "outputs": [],
   "source": [
    "combined = combined.fillna(combined.mean())\n",
    "combined = combined.fillna(0)"
   ]
  },
  {
   "cell_type": "markdown",
   "metadata": {},
   "source": [
    "# Add a school district column for mapping"
   ]
  },
  {
   "cell_type": "markdown",
   "metadata": {},
   "source": [
    "**After cleaning and merging the dataset, analyzing the statistics at the school district level can be effective. Adding a column specifying the school district by extracting the first two characters of the DBN facilitates this analysis.**"
   ]
  },
  {
   "cell_type": "code",
   "execution_count": 177,
   "metadata": {},
   "outputs": [],
   "source": [
    "def get_first_two_chars(dbn):\n",
    "    return dbn[0:2]\n",
    "\n",
    "combined[\"school_dist\"] = combined[\"DBN\"].apply(get_first_two_chars)"
   ]
  },
  {
   "cell_type": "markdown",
   "metadata": {},
   "source": [
    "# Find correlations"
   ]
  },
  {
   "cell_type": "code",
   "execution_count": 178,
   "metadata": {},
   "outputs": [
    {
     "name": "stdout",
     "output_type": "stream",
     "text": [
      "SAT Critical Reading Avg. Score         0.985064\n",
      "SAT Math Avg. Score                     0.971335\n",
      "SAT Writing Avg. Score                  0.985410\n",
      "sat_score                               1.000000\n",
      "AP Test Takers                          0.533656\n",
      "Total Exams Taken                       0.527427\n",
      "Number of Exams with scores 3 4 or 5    0.468721\n",
      "Total Cohort                            0.344212\n",
      "CSD                                     0.091399\n",
      "NUMBER OF STUDENTS / SEATS FILLED       0.272268\n",
      "NUMBER OF SECTIONS                      0.246678\n",
      "AVERAGE CLASS SIZE                      0.172210\n",
      "SIZE OF SMALLEST CLASS                  0.084243\n",
      "SIZE OF LARGEST CLASS                   0.157622\n",
      "SCHOOLWIDE PUPIL-TEACHER RATIO          0.094842\n",
      "schoolyear                                   NaN\n",
      "fl_percent                                   NaN\n",
      "frl_percent                            -0.706601\n",
      "total_enrollment                        0.388813\n",
      "ell_num                                -0.041272\n",
      "ell_percent                            -0.372577\n",
      "sped_num                                0.114411\n",
      "sped_percent                           -0.498443\n",
      "asian_num                               0.478661\n",
      "asian_per                               0.590466\n",
      "black_num                               0.045216\n",
      "black_per                              -0.337820\n",
      "hispanic_num                            0.088251\n",
      "hispanic_per                           -0.355098\n",
      "white_num                               0.442737\n",
      "white_per                               0.612644\n",
      "male_num                                0.348143\n",
      "male_per                               -0.109876\n",
      "female_num                              0.410372\n",
      "female_per                              0.109910\n",
      "rr_s                                    0.225393\n",
      "rr_t                                   -0.001094\n",
      "rr_p                                    0.034559\n",
      "N_s                                     0.436093\n",
      "N_t                                     0.322470\n",
      "N_p                                     0.432399\n",
      "saf_p_11                                0.104132\n",
      "com_p_11                               -0.133303\n",
      "eng_p_11                                0.003768\n",
      "aca_p_11                                0.002369\n",
      "saf_t_11                                0.336342\n",
      "com_t_11                                0.109391\n",
      "eng_t_11                                0.077518\n",
      "aca_t_11                                0.157531\n",
      "saf_s_11                                0.354679\n",
      "com_s_11                                0.183465\n",
      "eng_s_11                                0.232609\n",
      "aca_s_11                                0.311727\n",
      "saf_tot_11                              0.328305\n",
      "com_tot_11                              0.087914\n",
      "eng_tot_11                              0.129506\n",
      "aca_tot_11                              0.189154\n",
      "grade_span_max                               NaN\n",
      "expgrade_span_max                            NaN\n",
      "zip                                    -0.042736\n",
      "Name: sat_score, dtype: float64\n"
     ]
    }
   ],
   "source": [
    "correlations = combined.corr()\n",
    "correlations = correlations[\"sat_score\"]\n",
    "print(correlations.iloc[0:60])"
   ]
  },
  {
   "cell_type": "code",
   "execution_count": 179,
   "metadata": {},
   "outputs": [
    {
     "name": "stdout",
     "output_type": "stream",
     "text": [
      "zip               -0.042736\n",
      "total_students     0.430410\n",
      "number_programs    0.156822\n",
      "priority08              NaN\n",
      "priority09              NaN\n",
      "priority10              NaN\n",
      "lat               -0.135341\n",
      "lon               -0.117411\n",
      "Name: sat_score, dtype: float64\n"
     ]
    }
   ],
   "source": [
    "print(correlations.tail(8))"
   ]
  },
  {
   "cell_type": "markdown",
   "metadata": {},
   "source": [
    "**As expected Unsurprisingly, SAT Critical Reading Avg. Score, SAT Math Avg. Score, SAT Writing Avg. Score, and sat_score are strongly correlated with sat_score.**\n",
    "\n",
    "Observations:\n",
    "* Total enrollment has a positive correlation with SAT scores, contrary to expectations for smaller schools. Larger schools tend to perform better.\n",
    "* Other enrollment-related columns also show similar correlations e.g total_students, N_s, N_p, N_t, AP Test Takers, Total Exams Taken, and NUMBER OF SECTIONS.\n",
    "* SAT scores correlate positively with the percentage and number of females, while correlating negatively with the percentage and number of males.\n",
    "* School safety ratings from teachers and students correlate with SAT scores.\n",
    "* Student ratings of academic standards correlate with SAT scores, but not ratings from teachers and parents.\n",
    "* Significant racial inequality exists in SAT scores (white_per, asian_per, black_per, hispanic_per).\n",
    "* The percentage of students eligible for free or reduced school lunch correlates negatively with SAT scores.**"
   ]
  },
  {
   "cell_type": "code",
   "execution_count": 180,
   "metadata": {},
   "outputs": [],
   "source": [
    "import matplotlib.pyplot as plt\n",
    "import matplotlib.style as style\n",
    "style.use('fivethirtyeight')\n",
    "%matplotlib inline "
   ]
  },
  {
   "cell_type": "code",
   "execution_count": null,
   "metadata": {},
   "outputs": [],
   "source": []
  },
  {
   "cell_type": "code",
   "execution_count": 181,
   "metadata": {},
   "outputs": [
    {
     "data": {
      "image/png": "[encoded data removed]",
      "text/plain": [
       "<Figure size 900x500 with 1 Axes>"
      ]
     },
     "metadata": {},
     "output_type": "display_data"
    }
   ],
   "source": [
    "fig, ax = plt.subplots(figsize=(9, 5))\n",
    "ax.scatter(combined['total_enrollment'], combined['sat_score'])\n",
    "ax.text(0, 680, '©Victor Ezeji' + ' '*92 + 'Source: NYC Open Data',\n",
    "        color = '#f0f0f0', backgroundcolor = '#4d4d4d',\n",
    "       size=12)\n",
    "ax.text(0, 2200, 'Correlation values between total_enrollment and sat_score', weight = 'bold',\n",
    "        size=15)\n",
    "plt.show()"
   ]
  },
  {
   "cell_type": "markdown",
   "metadata": {},
   "source": [
    "The plot we created suggests no strong correlation between sat_score and total_enrollment. Instead, there's a cluster of schools and a few outliers in different directions."
   ]
  },
  {
   "cell_type": "markdown",
   "metadata": {},
   "source": [
    "# Plotting survey correlations"
   ]
  },
  {
   "cell_type": "markdown",
   "metadata": {},
   "source": [
    "There are several fields in combined that origina666lly came from a survey which we saved in survey_fields earlier in this project"
   ]
  },
  {
   "cell_type": "code",
   "execution_count": 182,
   "metadata": {},
   "outputs": [],
   "source": [
    "# Remove DBN since it's a unique identifier, not a useful numerical value for correlation.\n",
    "survey_fields.remove(\"DBN\")"
   ]
  },
  {
   "cell_type": "code",
   "execution_count": 183,
   "metadata": {},
   "outputs": [
    {
     "data": {
      "text/plain": [
       "['rr_s',\n",
       " 'rr_t',\n",
       " 'rr_p',\n",
       " 'N_s',\n",
       " 'N_t',\n",
       " 'N_p',\n",
       " 'saf_p_11',\n",
       " 'com_p_11',\n",
       " 'eng_p_11',\n",
       " 'aca_p_11',\n",
       " 'saf_t_11',\n",
       " 'com_t_11',\n",
       " 'eng_t_11',\n",
       " 'aca_t_11',\n",
       " 'saf_s_11',\n",
       " 'com_s_11',\n",
       " 'eng_s_11',\n",
       " 'aca_s_11',\n",
       " 'saf_tot_11',\n",
       " 'com_tot_11',\n",
       " 'eng_tot_11',\n",
       " 'aca_tot_11']"
      ]
     },
     "execution_count": 183,
     "metadata": {},
     "output_type": "execute_result"
    }
   ],
   "source": [
    "survey_fields"
   ]
  },
  {
   "cell_type": "code",
   "execution_count": 184,
   "metadata": {
    "scrolled": false
   },
   "outputs": [
    {
     "data": {
      "text/plain": [
       "<matplotlib.axes._subplots.AxesSubplot at 0x7ff1b67a9df0>"
      ]
     },
     "execution_count": 184,
     "metadata": {},
     "output_type": "execute_result"
    },
    {
     "data": {
      "image/png": "[encoded data removed]",
      "text/plain": [
       "<Figure size 600x400 with 1 Axes>"
      ]
     },
     "metadata": {},
     "output_type": "display_data"
    }
   ],
   "source": [
    "corr.plot.bar()"
   ]
  },
  {
   "cell_type": "markdown",
   "metadata": {},
   "source": [
    "**since Other enrollment-related columns also show similar correlations e.g total_students, N_s, N_p, N_t,  we will explore  saf_t_11 and saf_s_11, which measure how teachers and students perceive safety at school, which are correlated highly with sat_score.**"
   ]
  },
  {
   "cell_type": "markdown",
   "metadata": {},
   "source": [
    "## Exploring safety"
   ]
  },
  {
   "cell_type": "code",
   "execution_count": 185,
   "metadata": {
    "scrolled": true
   },
   "outputs": [
    {
     "data": {
      "text/plain": [
       "<matplotlib.axes._subplots.AxesSubplot at 0x7ff1b5139190>"
      ]
     },
     "execution_count": 185,
     "metadata": {},
     "output_type": "execute_result"
    },
    {
     "data": {
      "image/png": "[encoded data removed]",
      "text/plain": [
       "<Figure size 600x400 with 1 Axes>"
      ]
     },
     "metadata": {},
     "output_type": "display_data"
    }
   ],
   "source": [
    "combined.plot.scatter(x = 'saf_s_11', y = 'sat_score')"
   ]
  },
  {
   "cell_type": "markdown",
   "metadata": {},
   "source": [
    "there appears to be a correlation, but it doesn't look strong"
   ]
  },
  {
   "cell_type": "code",
   "execution_count": 186,
   "metadata": {},
   "outputs": [
    {
     "data": {
      "text/plain": [
       "array(['Manhattan', 'Bronx', 'Brooklyn', 'Queens', 'Staten Island'],\n",
       "      dtype=object)"
      ]
     },
     "execution_count": 186,
     "metadata": {},
     "output_type": "execute_result"
    }
   ],
   "source": [
    "combined['boro'].unique()"
   ]
  },
  {
   "cell_type": "markdown",
   "metadata": {},
   "source": [
    "## Borough safety"
   ]
  },
  {
   "cell_type": "code",
   "execution_count": 187,
   "metadata": {},
   "outputs": [],
   "source": [
    "boro_safety = combined.pivot_table(index = 'boro', values ='saf_s_11')"
   ]
  },
  {
   "cell_type": "code",
   "execution_count": 188,
   "metadata": {},
   "outputs": [
    {
     "data": {
      "text/html": [
       "<div>\n",
       "<style scoped>\n",
       "    .dataframe tbody tr th:only-of-type {\n",
       "        vertical-align: middle;\n",
       "    }\n",
       "\n",
       "    .dataframe tbody tr th {\n",
       "        vertical-align: top;\n",
       "    }\n",
       "\n",
       "    .dataframe thead th {\n",
       "        text-align: right;\n",
       "    }\n",
       "</style>\n",
       "<table border=\"1\" class=\"dataframe\">\n",
       "  <thead>\n",
       "    <tr style=\"text-align: right;\">\n",
       "      <th></th>\n",
       "      <th>saf_s_11</th>\n",
       "    </tr>\n",
       "    <tr>\n",
       "      <th>boro</th>\n",
       "      <th></th>\n",
       "    </tr>\n",
       "  </thead>\n",
       "  <tbody>\n",
       "    <tr>\n",
       "      <th>Bronx</th>\n",
       "      <td>6.534549</td>\n",
       "    </tr>\n",
       "    <tr>\n",
       "      <th>Brooklyn</th>\n",
       "      <td>6.331908</td>\n",
       "    </tr>\n",
       "    <tr>\n",
       "      <th>Manhattan</th>\n",
       "      <td>6.719133</td>\n",
       "    </tr>\n",
       "    <tr>\n",
       "      <th>Queens</th>\n",
       "      <td>6.646817</td>\n",
       "    </tr>\n",
       "    <tr>\n",
       "      <th>Staten Island</th>\n",
       "      <td>6.426404</td>\n",
       "    </tr>\n",
       "  </tbody>\n",
       "</table>\n",
       "</div>"
      ],
      "text/plain": [
       "               saf_s_11\n",
       "boro                   \n",
       "Bronx          6.534549\n",
       "Brooklyn       6.331908\n",
       "Manhattan      6.719133\n",
       "Queens         6.646817\n",
       "Staten Island  6.426404"
      ]
     },
     "execution_count": 188,
     "metadata": {},
     "output_type": "execute_result"
    }
   ],
   "source": [
    "boro_safety"
   ]
  },
  {
   "cell_type": "markdown",
   "metadata": {},
   "source": [
    "Schools in Manhattan and Queens tend to have higher safety ratings compared to those in Brooklyn, which generally have a marginally lower average safety score."
   ]
  },
  {
   "cell_type": "markdown",
   "metadata": {},
   "source": [
    "## Exploring race and SAT score"
   ]
  },
  {
   "cell_type": "markdown",
   "metadata": {},
   "source": [
    "let's visualize the correlation between SAT score and the columns that indicate the percentage of each race at a given school."
   ]
  },
  {
   "cell_type": "code",
   "execution_count": 189,
   "metadata": {},
   "outputs": [
    {
     "data": {
      "text/html": [
       "<div>\n",
       "<style scoped>\n",
       "    .dataframe tbody tr th:only-of-type {\n",
       "        vertical-align: middle;\n",
       "    }\n",
       "\n",
       "    .dataframe tbody tr th {\n",
       "        vertical-align: top;\n",
       "    }\n",
       "\n",
       "    .dataframe thead th {\n",
       "        text-align: right;\n",
       "    }\n",
       "</style>\n",
       "<table border=\"1\" class=\"dataframe\">\n",
       "  <thead>\n",
       "    <tr style=\"text-align: right;\">\n",
       "      <th></th>\n",
       "      <th>white_per</th>\n",
       "      <th>asian_per</th>\n",
       "      <th>black_per</th>\n",
       "      <th>hispanic_per</th>\n",
       "    </tr>\n",
       "  </thead>\n",
       "  <tbody>\n",
       "    <tr>\n",
       "      <th>0</th>\n",
       "      <td>1.7</td>\n",
       "      <td>14.0</td>\n",
       "      <td>29.1</td>\n",
       "      <td>53.8</td>\n",
       "    </tr>\n",
       "    <tr>\n",
       "      <th>1</th>\n",
       "      <td>1.7</td>\n",
       "      <td>14.0</td>\n",
       "      <td>29.1</td>\n",
       "      <td>53.8</td>\n",
       "    </tr>\n",
       "    <tr>\n",
       "      <th>2</th>\n",
       "      <td>1.7</td>\n",
       "      <td>14.0</td>\n",
       "      <td>29.1</td>\n",
       "      <td>53.8</td>\n",
       "    </tr>\n",
       "    <tr>\n",
       "      <th>3</th>\n",
       "      <td>1.7</td>\n",
       "      <td>14.0</td>\n",
       "      <td>29.1</td>\n",
       "      <td>53.8</td>\n",
       "    </tr>\n",
       "    <tr>\n",
       "      <th>4</th>\n",
       "      <td>1.7</td>\n",
       "      <td>14.0</td>\n",
       "      <td>29.1</td>\n",
       "      <td>53.8</td>\n",
       "    </tr>\n",
       "    <tr>\n",
       "      <th>...</th>\n",
       "      <td>...</td>\n",
       "      <td>...</td>\n",
       "      <td>...</td>\n",
       "      <td>...</td>\n",
       "    </tr>\n",
       "    <tr>\n",
       "      <th>10167</th>\n",
       "      <td>0.0</td>\n",
       "      <td>0.9</td>\n",
       "      <td>21.2</td>\n",
       "      <td>77.3</td>\n",
       "    </tr>\n",
       "    <tr>\n",
       "      <th>10168</th>\n",
       "      <td>0.0</td>\n",
       "      <td>0.9</td>\n",
       "      <td>21.2</td>\n",
       "      <td>77.3</td>\n",
       "    </tr>\n",
       "    <tr>\n",
       "      <th>10169</th>\n",
       "      <td>0.0</td>\n",
       "      <td>0.9</td>\n",
       "      <td>21.2</td>\n",
       "      <td>77.3</td>\n",
       "    </tr>\n",
       "    <tr>\n",
       "      <th>10170</th>\n",
       "      <td>0.0</td>\n",
       "      <td>0.9</td>\n",
       "      <td>21.2</td>\n",
       "      <td>77.3</td>\n",
       "    </tr>\n",
       "    <tr>\n",
       "      <th>10171</th>\n",
       "      <td>0.0</td>\n",
       "      <td>0.9</td>\n",
       "      <td>21.2</td>\n",
       "      <td>77.3</td>\n",
       "    </tr>\n",
       "  </tbody>\n",
       "</table>\n",
       "<p>10172 rows × 4 columns</p>\n",
       "</div>"
      ],
      "text/plain": [
       "       white_per  asian_per  black_per  hispanic_per\n",
       "0            1.7       14.0       29.1          53.8\n",
       "1            1.7       14.0       29.1          53.8\n",
       "2            1.7       14.0       29.1          53.8\n",
       "3            1.7       14.0       29.1          53.8\n",
       "4            1.7       14.0       29.1          53.8\n",
       "...          ...        ...        ...           ...\n",
       "10167        0.0        0.9       21.2          77.3\n",
       "10168        0.0        0.9       21.2          77.3\n",
       "10169        0.0        0.9       21.2          77.3\n",
       "10170        0.0        0.9       21.2          77.3\n",
       "10171        0.0        0.9       21.2          77.3\n",
       "\n",
       "[10172 rows x 4 columns]"
      ]
     },
     "execution_count": 189,
     "metadata": {},
     "output_type": "execute_result"
    }
   ],
   "source": [
    "combined[['white_per', 'asian_per', 'black_per', 'hispanic_per']]"
   ]
  },
  {
   "cell_type": "code",
   "execution_count": 190,
   "metadata": {},
   "outputs": [
    {
     "data": {
      "text/plain": [
       "<matplotlib.axes._subplots.AxesSubplot at 0x7ff1b604dd30>"
      ]
     },
     "execution_count": 190,
     "metadata": {},
     "output_type": "execute_result"
    },
    {
     "data": {
      "image/png": "[encoded data removed]",
      "text/plain": [
       "<Figure size 600x400 with 1 Axes>"
      ]
     },
     "metadata": {},
     "output_type": "display_data"
    }
   ],
   "source": [
    "combined.corr()['sat_score'][['white_per', 'asian_per', 'black_per', 'hispanic_per']].plot.bar()"
   ]
  },
  {
   "cell_type": "markdown",
   "metadata": {},
   "source": [
    "from the above chat it appears a higher percentage of white and asian students in schools positively correlates with the SAT score while black and hispanic students are negatively correlated."
   ]
  },
  {
   "cell_type": "code",
   "execution_count": 191,
   "metadata": {},
   "outputs": [
    {
     "data": {
      "text/plain": [
       "<matplotlib.axes._subplots.AxesSubplot at 0x7ff1b6025dc0>"
      ]
     },
     "execution_count": 191,
     "metadata": {},
     "output_type": "execute_result"
    },
    {
     "data": {
      "image/png": "[encoded data removed]",
      "text/plain": [
       "<Figure size 600x400 with 1 Axes>"
      ]
     },
     "metadata": {},
     "output_type": "display_data"
    }
   ],
   "source": [
    "combined.plot.scatter(x = 'hispanic_per', y = 'sat_score')"
   ]
  },
  {
   "cell_type": "markdown",
   "metadata": {},
   "source": [
    "**From the above scatter plot we can see schools with higher percentage of hispanic students have lower average SAT scores.**"
   ]
  },
  {
   "cell_type": "markdown",
   "metadata": {},
   "source": [
    "let's explore schools with a Hispanic percentage greater than 95 by researching their names on Wikipedia and Google to discover any interesting aspects about them."
   ]
  },
  {
   "cell_type": "code",
   "execution_count": 192,
   "metadata": {},
   "outputs": [],
   "source": [
    "hispanic_sch_over_95 = combined[combined['hispanic_per'] > 95]['SchoolName']"
   ]
  },
  {
   "cell_type": "code",
   "execution_count": 193,
   "metadata": {},
   "outputs": [
    {
     "data": {
      "text/plain": [
       "array(['Manhattan Bridges High School', 0,\n",
       "       'GREGORIO LUPERON HS SCI & MATH',\n",
       "       'Academy for Language and Technology',\n",
       "       'International School for Liberal Arts',\n",
       "       'Multicultural High School'], dtype=object)"
      ]
     },
     "execution_count": 193,
     "metadata": {},
     "output_type": "execute_result"
    }
   ],
   "source": [
    "hispanic_sch_over_95.unique()"
   ]
  },
  {
   "cell_type": "markdown",
   "metadata": {},
   "source": [
    "Let's explore NY schools with a hispanic_per less than 10% and an average SAT score greater than 1800."
   ]
  },
  {
   "cell_type": "code",
   "execution_count": 194,
   "metadata": {},
   "outputs": [],
   "source": [
    "sch_less_10_hispanic = combined[(combined['hispanic_per'] < 10) & (combined['sat_score'] > 1800)]['SchoolName']"
   ]
  },
  {
   "cell_type": "code",
   "execution_count": 195,
   "metadata": {},
   "outputs": [
    {
     "data": {
      "text/plain": [
       "array(['STUYVESANT HS', 'BRONX HS OF SCIENCE', 'BROOKLYN TECHNICAL HS',\n",
       "       'Queens HS for Science York Colllege',\n",
       "       'STATEN ISLAND TECHNICAL HS'], dtype=object)"
      ]
     },
     "execution_count": 195,
     "metadata": {},
     "output_type": "execute_result"
    }
   ],
   "source": [
    "sch_less_10_hispanic.unique()"
   ]
  },
  {
   "cell_type": "markdown",
   "metadata": {},
   "source": [
    "**Many of the schools above appear to be specialized science and technology schools that receive extra funding and only admit students who pass an entrance exam. This doesn't explain the low hispanic_per, but it does explain why their students tend to do better on the SAT.**"
   ]
  },
  {
   "cell_type": "markdown",
   "metadata": {},
   "source": [
    "## Exploring Gender and SAT Scores"
   ]
  },
  {
   "cell_type": "markdown",
   "metadata": {},
   "source": [
    "let's explore gender disparities in SAT scores"
   ]
  },
  {
   "cell_type": "code",
   "execution_count": 196,
   "metadata": {},
   "outputs": [
    {
     "data": {
      "text/plain": [
       "<matplotlib.axes._subplots.AxesSubplot at 0x7ff1b5103f10>"
      ]
     },
     "execution_count": 196,
     "metadata": {},
     "output_type": "execute_result"
    },
    {
     "data": {
      "image/png": "[encoded data removed]",
      "text/plain": [
       "<Figure size 600x400 with 1 Axes>"
      ]
     },
     "metadata": {},
     "output_type": "display_data"
    }
   ],
   "source": [
    "combined.corr()['sat_score'][['male_per', 'female_per']].plot.bar()"
   ]
  },
  {
   "cell_type": "markdown",
   "metadata": {},
   "source": [
    "**The plot above indicates a positive correlation between schools with more females and the average SAT score, whereas schools with more males show a negative correlation, although it is not strong.**"
   ]
  },
  {
   "cell_type": "markdown",
   "metadata": {},
   "source": [
    "**lets's investigate this correlation further through a scatter plot.**"
   ]
  },
  {
   "cell_type": "code",
   "execution_count": 197,
   "metadata": {},
   "outputs": [
    {
     "data": {
      "text/plain": [
       "<matplotlib.axes._subplots.AxesSubplot at 0x7ff1b87f0dc0>"
      ]
     },
     "execution_count": 197,
     "metadata": {},
     "output_type": "execute_result"
    },
    {
     "data": {
      "image/png": "[encoded data removed]",
      "text/plain": [
       "<Figure size 600x400 with 1 Axes>"
      ]
     },
     "metadata": {},
     "output_type": "display_data"
    }
   ],
   "source": [
    "combined.plot.scatter('female_per','sat_score')"
   ]
  },
  {
   "cell_type": "markdown",
   "metadata": {},
   "source": [
    "**The scatter plot above does not show a clear correlation between female students and SAT scores. However, it indicates that schools with a female student population between 60-80% had higher SAT scores.**"
   ]
  },
  {
   "cell_type": "markdown",
   "metadata": {},
   "source": [
    "Next step, let's explore schools with a female percentage exceeding 60% and an average SAT score surpassing 1700, Use Wikipedia and Google to research the schools by name."
   ]
  },
  {
   "cell_type": "code",
   "execution_count": 198,
   "metadata": {},
   "outputs": [],
   "source": [
    "sch_with_high_female_sat = combined[(combined['female_per'] > 60) & (combined['sat_score'] > 1700)]['SchoolName']"
   ]
  },
  {
   "cell_type": "code",
   "execution_count": 199,
   "metadata": {},
   "outputs": [
    {
     "data": {
      "text/plain": [
       "array([0, 'Eleanor Roosevelt High School', 'BEACON SCHOOL',\n",
       "       'FIORELLO H.LAGUARDIA HS', 'TOWNSEND HARRIS HS'], dtype=object)"
      ]
     },
     "execution_count": 199,
     "metadata": {},
     "output_type": "execute_result"
    }
   ],
   "source": [
    "sch_with_high_female_sat.unique()"
   ]
  },
  {
   "cell_type": "markdown",
   "metadata": {},
   "source": [
    "**These schools appear to be very selective liberal arts schools that have high academic standards**"
   ]
  },
  {
   "cell_type": "markdown",
   "metadata": {},
   "source": [
    "## Exploring AP Scores vs. SAT Scores"
   ]
  },
  {
   "cell_type": "markdown",
   "metadata": {},
   "source": [
    "**In the U.S., high school students take [Advanced Placement](https://en.wikipedia.org/wiki/Advanced_Placement_exams) (AP) exams to earn college credit. Let's delve into this relationship further by examining the percentage of students in each school who took at least one AP exam, considering that total enrollment strongly correlates with SAT scores.**"
   ]
  },
  {
   "cell_type": "code",
   "execution_count": 200,
   "metadata": {},
   "outputs": [],
   "source": [
    "combined['ap_per'] = combined['AP Test Takers '] / combined['total_enrollment']"
   ]
  },
  {
   "cell_type": "code",
   "execution_count": 201,
   "metadata": {},
   "outputs": [
    {
     "data": {
      "text/plain": [
       "<matplotlib.axes._subplots.AxesSubplot at 0x7ff1b6b7a1f0>"
      ]
     },
     "execution_count": 201,
     "metadata": {},
     "output_type": "execute_result"
    },
    {
     "data": {
      "image/png": "[encoded data removed]",
      "text/plain": [
       "<Figure size 600x400 with 1 Axes>"
      ]
     },
     "metadata": {},
     "output_type": "display_data"
    }
   ],
   "source": [
    "combined.plot.scatter('ap_per', 'sat_score')"
   ]
  },
  {
   "cell_type": "markdown",
   "metadata": {},
   "source": [
    "**The correlation between AP Test Takers and SAT scores appears uncertain.**"
   ]
  },
  {
   "cell_type": "markdown",
   "metadata": {},
   "source": [
    "## Exploring class size and SAT scores"
   ]
  },
  {
   "cell_type": "code",
   "execution_count": 202,
   "metadata": {},
   "outputs": [],
   "source": [
    "plt.style.use('default')"
   ]
  },
  {
   "cell_type": "code",
   "execution_count": 203,
   "metadata": {},
   "outputs": [
    {
     "data": {
      "text/plain": [
       "<matplotlib.axes._subplots.AxesSubplot at 0x7ff1b6b9e8e0>"
      ]
     },
     "execution_count": 203,
     "metadata": {},
     "output_type": "execute_result"
    },
    {
     "data": {
      "image/png": "[encoded data removed]",
      "text/plain": [
       "<Figure size 640x480 with 1 Axes>"
      ]
     },
     "metadata": {},
     "output_type": "display_data"
    }
   ],
   "source": [
    "combined.plot.scatter('AVERAGE CLASS SIZE', 'sat_score')"
   ]
  },
  {
   "cell_type": "markdown",
   "metadata": {},
   "source": [
    "No correlation exists between both variables."
   ]
  },
  {
   "cell_type": "markdown",
   "metadata": {},
   "source": [
    "**Next we will explore neighourhoods that have the best SAT scores.**"
   ]
  },
  {
   "cell_type": "code",
   "execution_count": 204,
   "metadata": {},
   "outputs": [
    {
     "data": {
      "text/plain": [
       "count    10172.000000\n",
       "mean      1221.971658\n",
       "std        159.206612\n",
       "min        887.000000\n",
       "25%       1116.000000\n",
       "50%       1192.000000\n",
       "75%       1270.000000\n",
       "max       2096.000000\n",
       "Name: sat_score, dtype: float64"
      ]
     },
     "execution_count": 204,
     "metadata": {},
     "output_type": "execute_result"
    }
   ],
   "source": [
    "combined['sat_score'].describe()"
   ]
  },
  {
   "cell_type": "code",
   "execution_count": 205,
   "metadata": {},
   "outputs": [
    {
     "data": {
      "image/png": "[encoded data removed]",
      "text/plain": [
       "<Figure size 640x480 with 1 Axes>"
      ]
     },
     "metadata": {},
     "output_type": "display_data"
    }
   ],
   "source": [
    "plt.hist(combined['sat_score'], bins=100,edgecolor='black')\n",
    "plt.xlabel('Value')\n",
    "plt.ylabel('Frequency')\n",
    "plt.title('Histogram')\n",
    "plt.show()"
   ]
  },
  {
   "cell_type": "markdown",
   "metadata": {},
   "source": [
    "**let's Filter the data to select SAT scores between 1600 and 2096 and determine the corresponding districts.**"
   ]
  },
  {
   "cell_type": "code",
   "execution_count": 206,
   "metadata": {},
   "outputs": [],
   "source": [
    "high_sat_combined = combined[(combined['sat_score'] >= 1600) & (combined['sat_score'] <= 2100)]"
   ]
  },
  {
   "cell_type": "code",
   "execution_count": 207,
   "metadata": {},
   "outputs": [],
   "source": [
    "value_counts = high_sat_combined['boro'].value_counts()"
   ]
  },
  {
   "cell_type": "code",
   "execution_count": 208,
   "metadata": {},
   "outputs": [
    {
     "data": {
      "text/plain": [
       "Manhattan        193\n",
       "Queens            71\n",
       "Brooklyn          64\n",
       "Bronx             40\n",
       "Staten Island     19\n",
       "Name: boro, dtype: int64"
      ]
     },
     "execution_count": 208,
     "metadata": {},
     "output_type": "execute_result"
    }
   ],
   "source": [
    "value_counts"
   ]
  },
  {
   "cell_type": "code",
   "execution_count": 209,
   "metadata": {},
   "outputs": [],
   "source": [
    "total_count = value_counts.values.sum()\n",
    "Percentage = (value_counts.loc['Manhattan'] / total_count) * 100"
   ]
  },
  {
   "cell_type": "code",
   "execution_count": 210,
   "metadata": {},
   "outputs": [
    {
     "data": {
      "text/plain": [
       "49.87080103359173"
      ]
     },
     "execution_count": 210,
     "metadata": {},
     "output_type": "execute_result"
    }
   ],
   "source": [
    "Percentage"
   ]
  },
  {
   "cell_type": "markdown",
   "metadata": {},
   "source": [
    "**48% top-scoring SAT students are located in Manhattan Borough, followed by Queens.**"
   ]
  },
  {
   "cell_type": "markdown",
   "metadata": {},
   "source": [
    "Let's check for additional correlation after filtering the dataset."
   ]
  },
  {
   "cell_type": "code",
   "execution_count": 211,
   "metadata": {},
   "outputs": [
    {
     "name": "stdout",
     "output_type": "stream",
     "text": [
      "SAT Critical Reading Avg. Score         0.984237\n",
      "SAT Math Avg. Score                     0.955027\n",
      "SAT Writing Avg. Score                  0.973468\n",
      "sat_score                               1.000000\n",
      "AP Test Takers                          0.543808\n",
      "Total Exams Taken                       0.560753\n",
      "Number of Exams with scores 3 4 or 5    0.637282\n",
      "Total Cohort                            0.489587\n",
      "CSD                                     0.079550\n",
      "NUMBER OF STUDENTS / SEATS FILLED       0.373875\n",
      "NUMBER OF SECTIONS                      0.378899\n",
      "AVERAGE CLASS SIZE                      0.092691\n",
      "SIZE OF SMALLEST CLASS                 -0.122568\n",
      "SIZE OF LARGEST CLASS                   0.162262\n",
      "SCHOOLWIDE PUPIL-TEACHER RATIO          0.066484\n",
      "schoolyear                                   NaN\n",
      "fl_percent                                   NaN\n",
      "frl_percent                            -0.047153\n",
      "total_enrollment                        0.362431\n",
      "ell_num                                -0.469042\n",
      "ell_percent                            -0.379479\n",
      "sped_num                               -0.573944\n",
      "sped_percent                           -0.506375\n",
      "asian_num                               0.519330\n",
      "asian_per                               0.587725\n",
      "black_num                              -0.099208\n",
      "black_per                              -0.349248\n",
      "hispanic_num                           -0.146415\n",
      "hispanic_per                           -0.592669\n",
      "white_num                               0.126401\n",
      "white_per                              -0.315690\n",
      "male_num                                0.426968\n",
      "male_per                                0.454844\n",
      "female_num                              0.245626\n",
      "female_per                             -0.454844\n",
      "rr_s                                    0.187327\n",
      "rr_t                                    0.176418\n",
      "rr_p                                    0.314545\n",
      "N_s                                     0.426011\n",
      "N_t                                     0.418143\n",
      "N_p                                     0.407694\n",
      "saf_p_11                               -0.120932\n",
      "com_p_11                                0.107169\n",
      "eng_p_11                                0.100478\n",
      "aca_p_11                               -0.002185\n",
      "saf_t_11                               -0.168893\n",
      "com_t_11                                0.003885\n",
      "eng_t_11                                0.046097\n",
      "aca_t_11                                0.015705\n",
      "saf_s_11                                0.032420\n",
      "com_s_11                               -0.111919\n",
      "eng_s_11                                0.160470\n",
      "aca_s_11                                0.239995\n",
      "saf_tot_11                             -0.111154\n",
      "com_tot_11                             -0.029430\n",
      "eng_tot_11                              0.085906\n",
      "aca_tot_11                              0.065673\n",
      "grade_span_max                               NaN\n",
      "expgrade_span_max                            NaN\n",
      "zip                                     0.049184\n",
      "Name: sat_score, dtype: float64\n"
     ]
    }
   ],
   "source": [
    "high_sat_combined_corr = high_sat_combined.corr()\n",
    "print(high_sat_combined_corr['sat_score'].iloc[0:60])"
   ]
  },
  {
   "cell_type": "code",
   "execution_count": 212,
   "metadata": {},
   "outputs": [
    {
     "data": {
      "text/html": [
       "<div>\n",
       "<style scoped>\n",
       "    .dataframe tbody tr th:only-of-type {\n",
       "        vertical-align: middle;\n",
       "    }\n",
       "\n",
       "    .dataframe tbody tr th {\n",
       "        vertical-align: top;\n",
       "    }\n",
       "\n",
       "    .dataframe thead th {\n",
       "        text-align: right;\n",
       "    }\n",
       "</style>\n",
       "<table border=\"1\" class=\"dataframe\">\n",
       "  <thead>\n",
       "    <tr style=\"text-align: right;\">\n",
       "      <th></th>\n",
       "      <th>SAT Critical Reading Avg. Score</th>\n",
       "      <th>SAT Math Avg. Score</th>\n",
       "      <th>SAT Writing Avg. Score</th>\n",
       "      <th>sat_score</th>\n",
       "      <th>AP Test Takers</th>\n",
       "      <th>Total Exams Taken</th>\n",
       "      <th>Number of Exams with scores 3 4 or 5</th>\n",
       "      <th>Total Cohort</th>\n",
       "      <th>CSD</th>\n",
       "      <th>NUMBER OF STUDENTS / SEATS FILLED</th>\n",
       "      <th>...</th>\n",
       "      <th>expgrade_span_max</th>\n",
       "      <th>zip</th>\n",
       "      <th>total_students</th>\n",
       "      <th>number_programs</th>\n",
       "      <th>priority08</th>\n",
       "      <th>priority09</th>\n",
       "      <th>priority10</th>\n",
       "      <th>lat</th>\n",
       "      <th>lon</th>\n",
       "      <th>ap_per</th>\n",
       "    </tr>\n",
       "  </thead>\n",
       "  <tbody>\n",
       "    <tr>\n",
       "      <th>priority09</th>\n",
       "      <td>NaN</td>\n",
       "      <td>NaN</td>\n",
       "      <td>NaN</td>\n",
       "      <td>NaN</td>\n",
       "      <td>NaN</td>\n",
       "      <td>NaN</td>\n",
       "      <td>NaN</td>\n",
       "      <td>NaN</td>\n",
       "      <td>NaN</td>\n",
       "      <td>NaN</td>\n",
       "      <td>...</td>\n",
       "      <td>NaN</td>\n",
       "      <td>NaN</td>\n",
       "      <td>NaN</td>\n",
       "      <td>NaN</td>\n",
       "      <td>NaN</td>\n",
       "      <td>NaN</td>\n",
       "      <td>NaN</td>\n",
       "      <td>NaN</td>\n",
       "      <td>NaN</td>\n",
       "      <td>NaN</td>\n",
       "    </tr>\n",
       "    <tr>\n",
       "      <th>priority10</th>\n",
       "      <td>NaN</td>\n",
       "      <td>NaN</td>\n",
       "      <td>NaN</td>\n",
       "      <td>NaN</td>\n",
       "      <td>NaN</td>\n",
       "      <td>NaN</td>\n",
       "      <td>NaN</td>\n",
       "      <td>NaN</td>\n",
       "      <td>NaN</td>\n",
       "      <td>NaN</td>\n",
       "      <td>...</td>\n",
       "      <td>NaN</td>\n",
       "      <td>NaN</td>\n",
       "      <td>NaN</td>\n",
       "      <td>NaN</td>\n",
       "      <td>NaN</td>\n",
       "      <td>NaN</td>\n",
       "      <td>NaN</td>\n",
       "      <td>NaN</td>\n",
       "      <td>NaN</td>\n",
       "      <td>NaN</td>\n",
       "    </tr>\n",
       "    <tr>\n",
       "      <th>lat</th>\n",
       "      <td>0.244901</td>\n",
       "      <td>0.154551</td>\n",
       "      <td>0.259522</td>\n",
       "      <td>0.223475</td>\n",
       "      <td>-0.042394</td>\n",
       "      <td>-0.003757</td>\n",
       "      <td>0.025164</td>\n",
       "      <td>-0.017864</td>\n",
       "      <td>-0.395859</td>\n",
       "      <td>0.017021</td>\n",
       "      <td>...</td>\n",
       "      <td>NaN</td>\n",
       "      <td>-0.288954</td>\n",
       "      <td>-0.024463</td>\n",
       "      <td>0.117822</td>\n",
       "      <td>NaN</td>\n",
       "      <td>NaN</td>\n",
       "      <td>NaN</td>\n",
       "      <td>1.000000</td>\n",
       "      <td>0.385524</td>\n",
       "      <td>-0.044380</td>\n",
       "    </tr>\n",
       "    <tr>\n",
       "      <th>lon</th>\n",
       "      <td>0.104311</td>\n",
       "      <td>0.074966</td>\n",
       "      <td>0.105134</td>\n",
       "      <td>0.096849</td>\n",
       "      <td>-0.065742</td>\n",
       "      <td>-0.072628</td>\n",
       "      <td>-0.075673</td>\n",
       "      <td>-0.132953</td>\n",
       "      <td>0.321758</td>\n",
       "      <td>-0.060136</td>\n",
       "      <td>...</td>\n",
       "      <td>NaN</td>\n",
       "      <td>0.594472</td>\n",
       "      <td>-0.158857</td>\n",
       "      <td>-0.092900</td>\n",
       "      <td>NaN</td>\n",
       "      <td>NaN</td>\n",
       "      <td>NaN</td>\n",
       "      <td>0.385524</td>\n",
       "      <td>1.000000</td>\n",
       "      <td>0.402257</td>\n",
       "    </tr>\n",
       "    <tr>\n",
       "      <th>ap_per</th>\n",
       "      <td>0.704843</td>\n",
       "      <td>0.742324</td>\n",
       "      <td>0.711304</td>\n",
       "      <td>0.742400</td>\n",
       "      <td>0.442349</td>\n",
       "      <td>0.432086</td>\n",
       "      <td>0.464260</td>\n",
       "      <td>0.348125</td>\n",
       "      <td>0.555845</td>\n",
       "      <td>0.257505</td>\n",
       "      <td>...</td>\n",
       "      <td>NaN</td>\n",
       "      <td>0.540816</td>\n",
       "      <td>0.209369</td>\n",
       "      <td>-0.080317</td>\n",
       "      <td>NaN</td>\n",
       "      <td>NaN</td>\n",
       "      <td>NaN</td>\n",
       "      <td>-0.044380</td>\n",
       "      <td>0.402257</td>\n",
       "      <td>1.000000</td>\n",
       "    </tr>\n",
       "  </tbody>\n",
       "</table>\n",
       "<p>5 rows × 68 columns</p>\n",
       "</div>"
      ],
      "text/plain": [
       "            SAT Critical Reading Avg. Score  SAT Math Avg. Score  \\\n",
       "priority09                              NaN                  NaN   \n",
       "priority10                              NaN                  NaN   \n",
       "lat                                0.244901             0.154551   \n",
       "lon                                0.104311             0.074966   \n",
       "ap_per                             0.704843             0.742324   \n",
       "\n",
       "            SAT Writing Avg. Score  sat_score  AP Test Takers   \\\n",
       "priority09                     NaN        NaN              NaN   \n",
       "priority10                     NaN        NaN              NaN   \n",
       "lat                       0.259522   0.223475        -0.042394   \n",
       "lon                       0.105134   0.096849        -0.065742   \n",
       "ap_per                    0.711304   0.742400         0.442349   \n",
       "\n",
       "            Total Exams Taken  Number of Exams with scores 3 4 or 5  \\\n",
       "priority09                NaN                                   NaN   \n",
       "priority10                NaN                                   NaN   \n",
       "lat                 -0.003757                              0.025164   \n",
       "lon                 -0.072628                             -0.075673   \n",
       "ap_per               0.432086                              0.464260   \n",
       "\n",
       "            Total Cohort       CSD  NUMBER OF STUDENTS / SEATS FILLED  ...  \\\n",
       "priority09           NaN       NaN                                NaN  ...   \n",
       "priority10           NaN       NaN                                NaN  ...   \n",
       "lat            -0.017864 -0.395859                           0.017021  ...   \n",
       "lon            -0.132953  0.321758                          -0.060136  ...   \n",
       "ap_per          0.348125  0.555845                           0.257505  ...   \n",
       "\n",
       "            expgrade_span_max       zip  total_students  number_programs  \\\n",
       "priority09                NaN       NaN             NaN              NaN   \n",
       "priority10                NaN       NaN             NaN              NaN   \n",
       "lat                       NaN -0.288954       -0.024463         0.117822   \n",
       "lon                       NaN  0.594472       -0.158857        -0.092900   \n",
       "ap_per                    NaN  0.540816        0.209369        -0.080317   \n",
       "\n",
       "            priority08  priority09  priority10       lat       lon    ap_per  \n",
       "priority09         NaN         NaN         NaN       NaN       NaN       NaN  \n",
       "priority10         NaN         NaN         NaN       NaN       NaN       NaN  \n",
       "lat                NaN         NaN         NaN  1.000000  0.385524 -0.044380  \n",
       "lon                NaN         NaN         NaN  0.385524  1.000000  0.402257  \n",
       "ap_per             NaN         NaN         NaN -0.044380  0.402257  1.000000  \n",
       "\n",
       "[5 rows x 68 columns]"
      ]
     },
     "execution_count": 212,
     "metadata": {},
     "output_type": "execute_result"
    }
   ],
   "source": [
    "high_sat_combined_corr.tail()"
   ]
  },
  {
   "cell_type": "markdown",
   "metadata": {},
   "source": [
    "**A strong correlation between the percentage of students who took advanced placement tests (AP_per) and SAT scores is evident, which will be visually represented through a scatter plot.**"
   ]
  },
  {
   "cell_type": "code",
   "execution_count": 213,
   "metadata": {},
   "outputs": [
    {
     "data": {
      "text/plain": [
       "<matplotlib.axes._subplots.AxesSubplot at 0x7ff1b5ff4130>"
      ]
     },
     "execution_count": 213,
     "metadata": {},
     "output_type": "execute_result"
    },
    {
     "data": {
      "image/png": "[encoded data removed]",
      "text/plain": [
       "<Figure size 640x480 with 1 Axes>"
      ]
     },
     "metadata": {},
     "output_type": "display_data"
    }
   ],
   "source": [
    "high_sat_combined.plot.scatter('ap_per', 'sat_score')"
   ]
  },
  {
   "cell_type": "markdown",
   "metadata": {},
   "source": [
    "**The scatter plot reveals a positive correlation between the percentage of students taking advance placement exams (ap_per) and SAT scores, indicating that higher SAT scores are associated with a greater participation in advance placement exams.**"
   ]
  },
  {
   "cell_type": "markdown",
   "metadata": {},
   "source": [
    "# Conclusion"
   ]
  },
  {
   "cell_type": "markdown",
   "metadata": {},
   "source": [
    "In this analysis, we set out to find correlation between SAT scores and factors like race, gender etc. it appears a higher percentage of white and asian students in schools positively correlates with the SAT score while black and hispanic students are negatively correlated."
   ]
  },
  {
   "cell_type": "code",
   "execution_count": 214,
   "metadata": {},
   "outputs": [
    {
     "data": {
      "text/plain": [
       "<matplotlib.axes._subplots.AxesSubplot at 0x7ff1b5f4ed00>"
      ]
     },
     "execution_count": 214,
     "metadata": {},
     "output_type": "execute_result"
    },
    {
     "data": {
      "image/png": "[encoded data removed]",
      "text/plain": [
       "<Figure size 640x480 with 1 Axes>"
      ]
     },
     "metadata": {},
     "output_type": "display_data"
    }
   ],
   "source": [
    "combined.corr()['sat_score'][['white_per', 'asian_per', 'black_per', 'hispanic_per']].plot.bar()"
   ]
  },
  {
   "cell_type": "markdown",
   "metadata": {},
   "source": [
    "**Also, higher SAT scores were strongly positively correlated with a greater participation in advance placement exams, as indicated by the percentage of students taking advance placement exams (ap_per).**"
   ]
  }
 ],
 "metadata": {
  "kernelspec": {
   "display_name": "Python 3",
   "language": "python",
   "name": "python3"
  },
  "language_info": {
   "codemirror_mode": {
    "name": "ipython",
    "version": 3
   },
   "file_extension": ".py",
   "mimetype": "text/x-python",
   "name": "python",
   "nbconvert_exporter": "python",
   "pygments_lexer": "ipython3",
   "version": "3.8.2"
  }
 },
 "nbformat": 4,
 "nbformat_minor": 2
}
